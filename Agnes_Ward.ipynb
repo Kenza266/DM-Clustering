{
 "cells": [
  {
   "cell_type": "code",
   "execution_count": 1,
   "metadata": {},
   "outputs": [],
   "source": [
    "import time\n",
    "import pickle\n",
    "import numpy as np\n",
    "import pandas as pd\n",
    "from tqdm import tqdm\n",
    "\n",
    "import matplotlib.pyplot as plt\n",
    "from mpl_toolkits.mplot3d import Axes3D\n",
    "\n",
    "from sklearn.manifold import TSNE \n",
    "from sklearn.decomposition import PCA\n",
    "from scipy.cluster.hierarchy import dendrogram\n",
    "\n",
    "from Agnes import Agnes\n",
    "from utils import report\n",
    "from DBscan import DBscan \n",
    "\n",
    "import warnings\n",
    "warnings.filterwarnings(\"ignore\") \n",
    "cmap = 'Spectral'"
   ]
  },
  {
   "cell_type": "code",
   "execution_count": 2,
   "metadata": {},
   "outputs": [],
   "source": [
    "data = pd.read_csv('datset.csv') \n",
    "cat = ['OverTime', 'MaritalStatus', 'JobRole', 'Gender', 'EducationField', 'Department', 'BusinessTravel', 'Attrition']\n",
    "data = data.drop(['EmployeeCount', 'Over18', 'StandardHours', 'EmployeeNumber'], axis=1)\n",
    "for i in cat:\n",
    "    data[i] = (data[i].astype('category').cat.codes).apply(np.int64)\n",
    "X, y = data.drop(['Attrition'], axis=1), data['Attrition']"
   ]
  },
  {
   "cell_type": "code",
   "execution_count": 3,
   "metadata": {},
   "outputs": [],
   "source": [
    "X, y = np.array(X), list(y)\n",
    "\n",
    "data_x = data.drop(['Attrition'], axis=1)\n",
    "X_standardized = np.array((data_x - data_x.mean()) / data_x.std())\n",
    "X_normalized = np.array(((data_x - data_x.min()) / (data_x.max() - data_x.min())))"
   ]
  },
  {
   "cell_type": "code",
   "execution_count": 4,
   "metadata": {},
   "outputs": [
    {
     "ename": "AttributeError",
     "evalue": "'list' object has no attribute 'shape'",
     "output_type": "error",
     "traceback": [
      "\u001b[1;31m---------------------------------------------------------------------------\u001b[0m",
      "\u001b[1;31mAttributeError\u001b[0m                            Traceback (most recent call last)",
      "Cell \u001b[1;32mIn [4], line 5\u001b[0m\n\u001b[0;32m      3\u001b[0m     dist_matrix \u001b[39m=\u001b[39m pickle\u001b[39m.\u001b[39mload(f) \n\u001b[0;32m      4\u001b[0m start \u001b[39m=\u001b[39m time\u001b[39m.\u001b[39mtime()\n\u001b[1;32m----> 5\u001b[0m clusters_H, distances_H, nb_clusters_H \u001b[39m=\u001b[39m agnes\u001b[39m.\u001b[39;49mcluster(X, dist_matrix\u001b[39m=\u001b[39;49mdist_matrix) \n\u001b[0;32m      6\u001b[0m end \u001b[39m=\u001b[39m time\u001b[39m.\u001b[39mtime() \u001b[39m-\u001b[39m start\n\u001b[0;32m      7\u001b[0m \u001b[39mprint\u001b[39m(\u001b[39m'\u001b[39m\u001b[39mHamming done\u001b[39m\u001b[39m'\u001b[39m, end)\n",
      "File \u001b[1;32mc:\\Users\\DELL\\Downloads\\M2Code\\DM\\Project\\DM-main\\Clustering\\Agnes.py:61\u001b[0m, in \u001b[0;36mAgnes.cluster\u001b[1;34m(self, X, stop, dist_matrix)\u001b[0m\n\u001b[0;32m     58\u001b[0m clusters[i] \u001b[39m+\u001b[39m\u001b[39m=\u001b[39m clusters[j]\n\u001b[0;32m     59\u001b[0m \u001b[39mdel\u001b[39;00m clusters[j]                   \n\u001b[1;32m---> 61\u001b[0m \u001b[39mself\u001b[39m\u001b[39m.\u001b[39mdist_matrix[i] \u001b[39m=\u001b[39m {c: \u001b[39mself\u001b[39m\u001b[39m.\u001b[39mlinkage([X[k] \u001b[39mfor\u001b[39;00m k \u001b[39min\u001b[39;00m clusters[i]], [X[k] \u001b[39mfor\u001b[39;00m k \u001b[39min\u001b[39;00m clusters[c]]) \u001b[39mfor\u001b[39;00m c \u001b[39min\u001b[39;00m \u001b[39mself\u001b[39m\u001b[39m.\u001b[39mdist_matrix\u001b[39m.\u001b[39mkeys() \u001b[39mif\u001b[39;00m c \u001b[39m!=\u001b[39m i \u001b[39mand\u001b[39;00m c \u001b[39m!=\u001b[39m j}\n\u001b[0;32m     62\u001b[0m \u001b[39mdel\u001b[39;00m \u001b[39mself\u001b[39m\u001b[39m.\u001b[39mdist_matrix[j]\n\u001b[0;32m     63\u001b[0m \u001b[39mfor\u001b[39;00m _, v \u001b[39min\u001b[39;00m \u001b[39mself\u001b[39m\u001b[39m.\u001b[39mdist_matrix\u001b[39m.\u001b[39mitems():\n",
      "File \u001b[1;32mc:\\Users\\DELL\\Downloads\\M2Code\\DM\\Project\\DM-main\\Clustering\\Agnes.py:61\u001b[0m, in \u001b[0;36m<dictcomp>\u001b[1;34m(.0)\u001b[0m\n\u001b[0;32m     58\u001b[0m clusters[i] \u001b[39m+\u001b[39m\u001b[39m=\u001b[39m clusters[j]\n\u001b[0;32m     59\u001b[0m \u001b[39mdel\u001b[39;00m clusters[j]                   \n\u001b[1;32m---> 61\u001b[0m \u001b[39mself\u001b[39m\u001b[39m.\u001b[39mdist_matrix[i] \u001b[39m=\u001b[39m {c: \u001b[39mself\u001b[39;49m\u001b[39m.\u001b[39;49mlinkage([X[k] \u001b[39mfor\u001b[39;49;00m k \u001b[39min\u001b[39;49;00m clusters[i]], [X[k] \u001b[39mfor\u001b[39;49;00m k \u001b[39min\u001b[39;49;00m clusters[c]]) \u001b[39mfor\u001b[39;00m c \u001b[39min\u001b[39;00m \u001b[39mself\u001b[39m\u001b[39m.\u001b[39mdist_matrix\u001b[39m.\u001b[39mkeys() \u001b[39mif\u001b[39;00m c \u001b[39m!=\u001b[39m i \u001b[39mand\u001b[39;00m c \u001b[39m!=\u001b[39m j}\n\u001b[0;32m     62\u001b[0m \u001b[39mdel\u001b[39;00m \u001b[39mself\u001b[39m\u001b[39m.\u001b[39mdist_matrix[j]\n\u001b[0;32m     63\u001b[0m \u001b[39mfor\u001b[39;00m _, v \u001b[39min\u001b[39;00m \u001b[39mself\u001b[39m\u001b[39m.\u001b[39mdist_matrix\u001b[39m.\u001b[39mitems():\n",
      "File \u001b[1;32mc:\\Users\\DELL\\Downloads\\M2Code\\DM\\Project\\DM-main\\Clustering\\Agnes.py:93\u001b[0m, in \u001b[0;36mAgnes.ward_linkage\u001b[1;34m(self, c1, c2)\u001b[0m\n\u001b[0;32m     92\u001b[0m \u001b[39mdef\u001b[39;00m \u001b[39mward_linkage\u001b[39m(\u001b[39mself\u001b[39m, c1, c2):\n\u001b[1;32m---> 93\u001b[0m     n1 \u001b[39m=\u001b[39m c1\u001b[39m.\u001b[39;49mshape[\u001b[39m0\u001b[39m]\n\u001b[0;32m     94\u001b[0m     n2 \u001b[39m=\u001b[39m c2\u001b[39m.\u001b[39mshape[\u001b[39m0\u001b[39m]\n\u001b[0;32m     95\u001b[0m     \u001b[39mreturn\u001b[39;00m (n1 \u001b[39m*\u001b[39m n2) \u001b[39m/\u001b[39m (n1 \u001b[39m+\u001b[39m n2) \u001b[39m*\u001b[39m \u001b[39mself\u001b[39m\u001b[39m.\u001b[39mdistance(np\u001b[39m.\u001b[39mmean(c1, axis\u001b[39m=\u001b[39m\u001b[39m0\u001b[39m), np\u001b[39m.\u001b[39mmean(c2, axis\u001b[39m=\u001b[39m\u001b[39m0\u001b[39m))\n",
      "\u001b[1;31mAttributeError\u001b[0m: 'list' object has no attribute 'shape'"
     ]
    }
   ],
   "source": [
    "agnes = Agnes('hamming', 'ward') \n",
    "with open('Agnes//Distances_Hamming.pkl', 'rb') as f:\n",
    "    dist_matrix = pickle.load(f) \n",
    "start = time.time()\n",
    "clusters_H, distances_H, nb_clusters_H = agnes.cluster(X, dist_matrix=dist_matrix) \n",
    "end = time.time() - start\n",
    "print('Hamming done', end)\n",
    "\n",
    "agnes = Agnes('manhattan', 'ward') \n",
    "with open('Agnes//Distances_Manhattan.pkl', 'rb') as f:\n",
    "    dist_matrix = pickle.load(f) \n",
    "start = time.time()\n",
    "clusters_M, distances_M, nb_clusters_M = agnes.cluster(X, dist_matrix=dist_matrix) \n",
    "end = time.time() - start\n",
    "print('Manhattan done', end)\n",
    "\n",
    "agnes = Agnes('manhattan',  'ward') \n",
    "with open('Agnes//Distances_Manhattan_Norm.pkl', 'rb') as f:\n",
    "    dist_matrix = pickle.load(f) \n",
    "start = time.time()\n",
    "clusters_N, distances_N, nb_clusters_N = agnes.cluster(X_normalized, dist_matrix=dist_matrix) \n",
    "end = time.time() - start\n",
    "print('Manhattan Norm done', end)\n",
    "\n",
    "agnes = Agnes('manhattan', 'ward') \n",
    "with open('Agnes//Distances_Manhattan_Std.pkl', 'rb') as f:\n",
    "    dist_matrix = pickle.load(f) \n",
    "start = time.time()\n",
    "clusters_S, distances_S, nb_clusters_S = agnes.cluster(X_standardized, dist_matrix=dist_matrix) \n",
    "end = time.time() - start\n",
    "print('Manhattan Std done', end)"
   ]
  },
  {
   "cell_type": "code",
   "execution_count": null,
   "metadata": {},
   "outputs": [],
   "source": [
    "fig, ax = plt.subplots()\n",
    "ax.plot(distances_H, color='orange', label='Min Ditsance')\n",
    "ax.tick_params(axis='y', labelcolor='orange')\n",
    "ax.set_xlabel('#Iterations')\n",
    "ax.set_ylabel('Min ditsance')\n",
    "\n",
    "ax2 = ax.twinx()\n",
    "ax2.plot(nb_clusters_H, color='purple', label='#Clusters')\n",
    "ax2.set_yscale('log')\n",
    "ax2.tick_params(axis='y', labelcolor='purple')\n",
    "ax2.set_ylabel('#Clusters')\n",
    "\n",
    "ax.set_title('Evolution')\n",
    "plt.show()"
   ]
  },
  {
   "cell_type": "code",
   "execution_count": null,
   "metadata": {},
   "outputs": [],
   "source": [
    "fig, ax = plt.subplots()\n",
    "ax.plot(distances_M, color='orange', label='Min Ditsance')\n",
    "ax.tick_params(axis='y', labelcolor='orange')\n",
    "ax.set_xlabel('#Iterations')\n",
    "ax.set_ylabel('Min ditsance')\n",
    "\n",
    "ax2 = ax.twinx()\n",
    "ax2.plot(nb_clusters_M, color='purple', label='#Clusters')\n",
    "ax2.set_yscale('log')\n",
    "ax2.tick_params(axis='y', labelcolor='purple')\n",
    "ax2.set_ylabel('#Clusters')\n",
    "\n",
    "ax.set_title('Evolution')\n",
    "plt.show()"
   ]
  },
  {
   "cell_type": "code",
   "execution_count": null,
   "metadata": {},
   "outputs": [],
   "source": [
    "fig, ax = plt.subplots()\n",
    "ax.plot(distances_N, color='orange', label='Min Ditsance')\n",
    "ax.tick_params(axis='y', labelcolor='orange')\n",
    "ax.set_xlabel('#Iterations')\n",
    "ax.set_ylabel('Min ditsance')\n",
    "\n",
    "ax2 = ax.twinx()\n",
    "ax2.plot(nb_clusters_N, color='purple', label='#Clusters')\n",
    "ax2.set_yscale('log')\n",
    "ax2.tick_params(axis='y', labelcolor='purple')\n",
    "ax2.set_ylabel('#Clusters')\n",
    "\n",
    "ax.set_title('Evolution')\n",
    "plt.show()"
   ]
  },
  {
   "cell_type": "code",
   "execution_count": null,
   "metadata": {},
   "outputs": [],
   "source": [
    "fig, ax = plt.subplots()\n",
    "ax.plot(distances_S, color='orange', label='Min Ditsance')\n",
    "ax.tick_params(axis='y', labelcolor='orange')\n",
    "ax.set_xlabel('#Iterations')\n",
    "ax.set_ylabel('Min ditsance')\n",
    "\n",
    "ax2 = ax.twinx()\n",
    "ax2.plot(nb_clusters_S, color='purple', label='#Clusters')\n",
    "ax2.set_yscale('log')\n",
    "ax2.tick_params(axis='y', labelcolor='purple')\n",
    "ax2.set_ylabel('#Clusters')\n",
    "\n",
    "ax.set_title('Evolution')\n",
    "plt.show()"
   ]
  },
  {
   "cell_type": "code",
   "execution_count": null,
   "metadata": {},
   "outputs": [],
   "source": [
    "clusters_H.keys(), clusters_M.keys(), clusters_N.keys(), clusters_S.keys()"
   ]
  },
  {
   "cell_type": "code",
   "execution_count": null,
   "metadata": {},
   "outputs": [],
   "source": [
    "yes_H, no_H = list(clusters_H.values())[1], list(clusters_H.values())[0]\n",
    "yes_M, no_M = list(clusters_M.values())[1], list(clusters_M.values())[0]\n",
    "yes_N, no_N = list(clusters_N.values())[1], list(clusters_N.values())[0]\n",
    "yes_S, no_S = list(clusters_S.values())[1], list(clusters_S.values())[0]\n",
    "\n",
    "predicted_H = [1 if i in yes_H else 0 for i in range(len(X))] \n",
    "predicted_M = [1 if i in yes_M else 0 for i in range(len(X))] \n",
    "predicted_N = [1 if i in yes_N else 0 for i in range(len(X))] \n",
    "predicted_S = [1 if i in yes_S else 0 for i in range(len(X))] "
   ]
  },
  {
   "cell_type": "code",
   "execution_count": null,
   "metadata": {},
   "outputs": [],
   "source": [
    "report(y, predicted_H)"
   ]
  },
  {
   "cell_type": "code",
   "execution_count": null,
   "metadata": {},
   "outputs": [],
   "source": [
    "report(y, predicted_M)"
   ]
  },
  {
   "cell_type": "code",
   "execution_count": null,
   "metadata": {},
   "outputs": [],
   "source": [
    "report(y, predicted_N)"
   ]
  },
  {
   "cell_type": "code",
   "execution_count": null,
   "metadata": {},
   "outputs": [],
   "source": [
    "report(y, predicted_S)"
   ]
  }
 ],
 "metadata": {
  "kernelspec": {
   "display_name": "Python 3",
   "language": "python",
   "name": "python3"
  },
  "language_info": {
   "codemirror_mode": {
    "name": "ipython",
    "version": 3
   },
   "file_extension": ".py",
   "mimetype": "text/x-python",
   "name": "python",
   "nbconvert_exporter": "python",
   "pygments_lexer": "ipython3",
   "version": "3.9.4 (tags/v3.9.4:1f2e308, Apr  6 2021, 13:40:21) [MSC v.1928 64 bit (AMD64)]"
  },
  "orig_nbformat": 4,
  "vscode": {
   "interpreter": {
    "hash": "5addf786bcd861d1ce5006f23111f8cbb206731e5b61b0a5632ba9e0252558a8"
   }
  }
 },
 "nbformat": 4,
 "nbformat_minor": 2
}
