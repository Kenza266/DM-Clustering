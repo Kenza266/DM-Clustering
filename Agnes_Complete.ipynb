{
 "cells": [
  {
   "cell_type": "code",
   "execution_count": 1,
   "metadata": {},
   "outputs": [],
   "source": [
    "import time\n",
    "import numpy as np\n",
    "import pandas as pd\n",
    "from tqdm import tqdm\n",
    "\n",
    "import matplotlib.pyplot as plt\n",
    "from mpl_toolkits.mplot3d import Axes3D\n",
    "\n",
    "from sklearn.manifold import TSNE \n",
    "from sklearn.decomposition import PCA\n",
    "from scipy.cluster.hierarchy import dendrogram\n",
    "\n",
    "from Agnes import Agnes\n",
    "from utils import report\n",
    "from DBscan import DBscan \n",
    "\n",
    "import warnings\n",
    "warnings.filterwarnings(\"ignore\") \n",
    "cmap = 'Spectral'"
   ]
  },
  {
   "cell_type": "code",
   "execution_count": 2,
   "metadata": {},
   "outputs": [],
   "source": [
    "data = pd.read_csv('datset.csv') \n",
    "cat = ['OverTime', 'MaritalStatus', 'JobRole', 'Gender', 'EducationField', 'Department', 'BusinessTravel', 'Attrition']\n",
    "data = data.drop(['EmployeeCount', 'Over18', 'StandardHours', 'EmployeeNumber'], axis=1)\n",
    "for i in cat:\n",
    "    data[i] = (data[i].astype('category').cat.codes).apply(np.int64)\n",
    "X, y = data.drop(['Attrition'], axis=1), data['Attrition']"
   ]
  },
  {
   "cell_type": "code",
   "execution_count": 3,
   "metadata": {},
   "outputs": [],
   "source": [
    "X, y = np.array(X), list(y)\n",
    "\n",
    "data_x = data.drop(['Attrition'], axis=1)\n",
    "X_standardized = np.array((data_x - data_x.mean()) / data_x.std())\n",
    "X_normalized = np.array(((data_x - data_x.min()) / (data_x.max() - data_x.min())))"
   ]
  },
  {
   "attachments": {},
   "cell_type": "markdown",
   "metadata": {},
   "source": [
    "# Complete"
   ]
  },
  {
   "cell_type": "code",
   "execution_count": 4,
   "metadata": {},
   "outputs": [
    {
     "ename": "KeyboardInterrupt",
     "evalue": "",
     "output_type": "error",
     "traceback": [
      "\u001b[1;31m---------------------------------------------------------------------------\u001b[0m",
      "\u001b[1;31mKeyboardInterrupt\u001b[0m                         Traceback (most recent call last)",
      "Cell \u001b[1;32mIn [4], line 5\u001b[0m\n\u001b[0;32m      2\u001b[0m dist_matrix \u001b[39m=\u001b[39m np\u001b[39m.\u001b[39mload(\u001b[39m'\u001b[39m\u001b[39mAgnes//Distances_Manhattan.npy\u001b[39m\u001b[39m'\u001b[39m)\n\u001b[0;32m      4\u001b[0m start \u001b[39m=\u001b[39m time\u001b[39m.\u001b[39mtime()\n\u001b[1;32m----> 5\u001b[0m cluster_id_M, clusters_M, distances_M, nb_clusters_M \u001b[39m=\u001b[39m agnes\u001b[39m.\u001b[39;49mcluster(X, dist_matrix\u001b[39m=\u001b[39;49mdist_matrix) \n\u001b[0;32m      6\u001b[0m end \u001b[39m=\u001b[39m time\u001b[39m.\u001b[39mtime() \u001b[39m-\u001b[39m start\n\u001b[0;32m      7\u001b[0m \u001b[39mprint\u001b[39m(\u001b[39m'\u001b[39m\u001b[39mManhattan done\u001b[39m\u001b[39m'\u001b[39m, end)\n",
      "File \u001b[1;32mc:\\Users\\DELL\\Downloads\\M2Code\\DM\\Project\\DM-main\\Clustering\\Agnes.py:104\u001b[0m, in \u001b[0;36mAgnes.cluster\u001b[1;34m(self, X, stop, dist_matrix)\u001b[0m\n\u001b[0;32m    102\u001b[0m min_distance, min_cluster \u001b[39m=\u001b[39m \u001b[39mself\u001b[39m\u001b[39m.\u001b[39mget_min_cluster() \n\u001b[0;32m    103\u001b[0m i, j \u001b[39m=\u001b[39m min_cluster\n\u001b[1;32m--> 104\u001b[0m \u001b[39mself\u001b[39;49m\u001b[39m.\u001b[39;49mmerge(cluster_id, clusters, i, j)\n\u001b[0;32m    105\u001b[0m distances\u001b[39m.\u001b[39mappend(min_distance)\n\u001b[0;32m    106\u001b[0m nb_clusters\u001b[39m.\u001b[39mappend(\u001b[39mlen\u001b[39m(clusters))\n",
      "File \u001b[1;32mc:\\Users\\DELL\\Downloads\\M2Code\\DM\\Project\\DM-main\\Clustering\\Agnes.py:122\u001b[0m, in \u001b[0;36mAgnes.merge\u001b[1;34m(self, cluster_id, clusters, i, j)\u001b[0m\n\u001b[0;32m    119\u001b[0m \u001b[39mdel\u001b[39;00m clusters[j] \n\u001b[0;32m    121\u001b[0m \u001b[39mself\u001b[39m\u001b[39m.\u001b[39mdist_matrix \u001b[39m=\u001b[39m np\u001b[39m.\u001b[39mdelete(\u001b[39mself\u001b[39m\u001b[39m.\u001b[39mdist_matrix, j, axis\u001b[39m=\u001b[39m\u001b[39m0\u001b[39m)\n\u001b[1;32m--> 122\u001b[0m \u001b[39mself\u001b[39m\u001b[39m.\u001b[39mdist_matrix \u001b[39m=\u001b[39m np\u001b[39m.\u001b[39;49mdelete(\u001b[39mself\u001b[39;49m\u001b[39m.\u001b[39;49mdist_matrix, j, axis\u001b[39m=\u001b[39;49m\u001b[39m1\u001b[39;49m)\n\u001b[0;32m    124\u001b[0m \u001b[39mif\u001b[39;00m \u001b[39mself\u001b[39m\u001b[39m.\u001b[39mlinkage \u001b[39min\u001b[39;00m [\u001b[39mself\u001b[39m\u001b[39m.\u001b[39mcomplete_linkage, \u001b[39mself\u001b[39m\u001b[39m.\u001b[39msingle_linkage, \u001b[39mself\u001b[39m\u001b[39m.\u001b[39maverage_linkage]:\n\u001b[0;32m    125\u001b[0m     \u001b[39mfor\u001b[39;00m k \u001b[39min\u001b[39;00m \u001b[39mrange\u001b[39m(\u001b[39m0\u001b[39m, i):\n",
      "File \u001b[1;32m<__array_function__ internals>:180\u001b[0m, in \u001b[0;36mdelete\u001b[1;34m(*args, **kwargs)\u001b[0m\n",
      "File \u001b[1;32mc:\\Users\\DELL\\AppData\\Local\\Programs\\Python\\Python39\\lib\\site-packages\\numpy\\lib\\function_base.py:5107\u001b[0m, in \u001b[0;36mdelete\u001b[1;34m(arr, obj, axis)\u001b[0m\n\u001b[0;32m   5105\u001b[0m new \u001b[39m=\u001b[39m empty(newshape, arr\u001b[39m.\u001b[39mdtype, arrorder)\n\u001b[0;32m   5106\u001b[0m slobj[axis] \u001b[39m=\u001b[39m \u001b[39mslice\u001b[39m(\u001b[39mNone\u001b[39;00m, obj)\n\u001b[1;32m-> 5107\u001b[0m new[\u001b[39mtuple\u001b[39;49m(slobj)] \u001b[39m=\u001b[39m arr[\u001b[39mtuple\u001b[39m(slobj)]\n\u001b[0;32m   5108\u001b[0m slobj[axis] \u001b[39m=\u001b[39m \u001b[39mslice\u001b[39m(obj, \u001b[39mNone\u001b[39;00m)\n\u001b[0;32m   5109\u001b[0m slobj2 \u001b[39m=\u001b[39m [\u001b[39mslice\u001b[39m(\u001b[39mNone\u001b[39;00m)]\u001b[39m*\u001b[39mndim\n",
      "\u001b[1;31mKeyboardInterrupt\u001b[0m: "
     ]
    }
   ],
   "source": [
    "agnes = Agnes('manhattan', 'complete') \n",
    "dist_matrix = np.load('Agnes//Distances_Manhattan.npy')\n",
    "     \n",
    "start = time.time()\n",
    "cluster_id_M, clusters_M, distances_M, nb_clusters_M = agnes.cluster(X, dist_matrix=dist_matrix) \n",
    "end = time.time() - start\n",
    "print('Manhattan done', end)\n",
    "\n",
    "agnes = Agnes('manhattan',  'complete') \n",
    "dist_matrix = np.load('Agnes//Distances_Manhattan_Norm.npy')\n",
    "     \n",
    "start = time.time()\n",
    "cluster_id_N, clusters_N, distances_N, nb_clusters_N = agnes.cluster(X_normalized, dist_matrix=dist_matrix) \n",
    "end = time.time() - start\n",
    "print('Manhattan Norm done', end)\n",
    "\n",
    "agnes = Agnes('manhattan', 'complete') \n",
    "dist_matrix = np.load('Agnes//Distances_Manhattan_Std.npy')\n",
    "     \n",
    "start = time.time()\n",
    "cluster_id_S, clusters_S, distances_S, nb_clusters_S = agnes.cluster(X_standardized, dist_matrix=dist_matrix) \n",
    "end = time.time() - start\n",
    "print('Manhattan Std done', end)\n",
    "\n",
    "agnes = Agnes('hamming', 'complete') \n",
    "dist_matrix = np.load('Agnes//Distances_Hamming.npy')\n",
    "     \n",
    "start = time.time()\n",
    "cluster_id_H, clusters_H, distances_H, nb_clusters_H = agnes.cluster(X, dist_matrix=dist_matrix) \n",
    "end = time.time() - start\n",
    "print('Hamming done', end)"
   ]
  },
  {
   "cell_type": "code",
   "execution_count": null,
   "metadata": {},
   "outputs": [],
   "source": [
    "fig, ax = plt.subplots()\n",
    "ax.plot(distances_H, color='orange', label='Min Ditsance')\n",
    "ax.tick_params(axis='y', labelcolor='orange')\n",
    "ax.set_xlabel('#Iterations')\n",
    "ax.set_ylabel('Min ditsance')\n",
    "\n",
    "ax2 = ax.twinx()\n",
    "ax2.plot(nb_clusters_H, color='purple', label='#Clusters')\n",
    "ax2.set_yscale('log')\n",
    "ax2.tick_params(axis='y', labelcolor='purple')\n",
    "ax2.set_ylabel('#Clusters')\n",
    "\n",
    "ax.set_title('Evolution')\n",
    "plt.show()"
   ]
  },
  {
   "cell_type": "code",
   "execution_count": null,
   "metadata": {},
   "outputs": [],
   "source": [
    "fig, ax = plt.subplots()\n",
    "ax.plot(distances_M, color='orange', label='Min Ditsance')\n",
    "ax.tick_params(axis='y', labelcolor='orange')\n",
    "ax.set_xlabel('#Iterations')\n",
    "ax.set_ylabel('Min ditsance')\n",
    "\n",
    "ax2 = ax.twinx()\n",
    "ax2.plot(nb_clusters_M, color='purple', label='#Clusters')\n",
    "ax2.set_yscale('log')\n",
    "ax2.tick_params(axis='y', labelcolor='purple')\n",
    "ax2.set_ylabel('#Clusters')\n",
    "\n",
    "ax.set_title('Evolution')\n",
    "plt.show()"
   ]
  },
  {
   "cell_type": "code",
   "execution_count": null,
   "metadata": {},
   "outputs": [],
   "source": [
    "fig, ax = plt.subplots()\n",
    "ax.plot(distances_N, color='orange', label='Min Ditsance')\n",
    "ax.tick_params(axis='y', labelcolor='orange')\n",
    "ax.set_xlabel('#Iterations')\n",
    "ax.set_ylabel('Min ditsance')\n",
    "\n",
    "ax2 = ax.twinx()\n",
    "ax2.plot(nb_clusters_N, color='purple', label='#Clusters')\n",
    "ax2.set_yscale('log')\n",
    "ax2.tick_params(axis='y', labelcolor='purple')\n",
    "ax2.set_ylabel('#Clusters')\n",
    "\n",
    "ax.set_title('Evolution')\n",
    "plt.show()"
   ]
  },
  {
   "cell_type": "code",
   "execution_count": null,
   "metadata": {},
   "outputs": [],
   "source": [
    "fig, ax = plt.subplots()\n",
    "ax.plot(distances_S, color='orange', label='Min Ditsance')\n",
    "ax.tick_params(axis='y', labelcolor='orange')\n",
    "ax.set_xlabel('#Iterations')\n",
    "ax.set_ylabel('Min ditsance')\n",
    "\n",
    "ax2 = ax.twinx()\n",
    "ax2.plot(nb_clusters_S, color='purple', label='#Clusters')\n",
    "ax2.set_yscale('log')\n",
    "ax2.tick_params(axis='y', labelcolor='purple')\n",
    "ax2.set_ylabel('#Clusters')\n",
    "\n",
    "ax.set_title('Evolution')\n",
    "plt.show()"
   ]
  },
  {
   "cell_type": "code",
   "execution_count": null,
   "metadata": {},
   "outputs": [],
   "source": [
    "report(y, [1 if i in cluster_id_H[1] else 0 for i in range(len(X))])"
   ]
  },
  {
   "cell_type": "code",
   "execution_count": null,
   "metadata": {},
   "outputs": [],
   "source": [
    "report(y, [1 if i in cluster_id_M[1] else 0 for i in range(len(X))])"
   ]
  },
  {
   "cell_type": "code",
   "execution_count": null,
   "metadata": {},
   "outputs": [],
   "source": [
    "report(y, [1 if i in cluster_id_N[1] else 0 for i in range(len(X))])"
   ]
  },
  {
   "cell_type": "code",
   "execution_count": null,
   "metadata": {},
   "outputs": [],
   "source": [
    "report(y, [1 if i in cluster_id_S[1] else 0 for i in range(len(X))])"
   ]
  }
 ],
 "metadata": {
  "kernelspec": {
   "display_name": "Python 3",
   "language": "python",
   "name": "python3"
  },
  "language_info": {
   "codemirror_mode": {
    "name": "ipython",
    "version": 3
   },
   "file_extension": ".py",
   "mimetype": "text/x-python",
   "name": "python",
   "nbconvert_exporter": "python",
   "pygments_lexer": "ipython3",
   "version": "3.9.4"
  },
  "orig_nbformat": 4,
  "vscode": {
   "interpreter": {
    "hash": "5addf786bcd861d1ce5006f23111f8cbb206731e5b61b0a5632ba9e0252558a8"
   }
  }
 },
 "nbformat": 4,
 "nbformat_minor": 2
}
