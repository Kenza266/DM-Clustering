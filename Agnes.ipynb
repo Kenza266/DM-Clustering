{
 "cells": [
  {
   "cell_type": "code",
   "execution_count": 1,
   "metadata": {},
   "outputs": [],
   "source": [
    "import time\n",
    "import pickle\n",
    "import numpy as np\n",
    "import pandas as pd\n",
    "from tqdm import tqdm\n",
    "\n",
    "import matplotlib.pyplot as plt\n",
    "from mpl_toolkits.mplot3d import Axes3D\n",
    "\n",
    "from sklearn.manifold import TSNE \n",
    "from sklearn.decomposition import PCA\n",
    "from scipy.cluster.hierarchy import dendrogram\n",
    "\n",
    "from Agnes import Agnes\n",
    "from utils import report\n",
    "from DBscan import DBscan \n",
    "\n",
    "import warnings\n",
    "warnings.filterwarnings(\"ignore\") \n",
    "cmap = 'Spectral'"
   ]
  },
  {
   "cell_type": "code",
   "execution_count": 2,
   "metadata": {},
   "outputs": [],
   "source": [
    "data = pd.read_csv('datset.csv') \n",
    "cat = ['OverTime', 'MaritalStatus', 'JobRole', 'Gender', 'EducationField', 'Department', 'BusinessTravel', 'Attrition']\n",
    "data = data.drop(['EmployeeCount', 'Over18', 'StandardHours', 'EmployeeNumber'], axis=1)\n",
    "for i in cat:\n",
    "    data[i] = (data[i].astype('category').cat.codes).apply(np.int64)\n",
    "X, y = data.drop(['Attrition'], axis=1), data['Attrition']"
   ]
  },
  {
   "cell_type": "code",
   "execution_count": 3,
   "metadata": {},
   "outputs": [],
   "source": [
    "X, y = np.array(X), list(y)\n",
    "\n",
    "data_x = data.drop(['Attrition'], axis=1)\n",
    "X_standardized = np.array((data_x - data_x.mean()) / data_x.std())\n",
    "X_normalized = np.array(((data_x - data_x.min()) / (data_x.max() - data_x.min())))"
   ]
  },
  {
   "attachments": {},
   "cell_type": "markdown",
   "metadata": {},
   "source": [
    "# Saving matrices"
   ]
  },
  {
   "cell_type": "code",
   "execution_count": 4,
   "metadata": {},
   "outputs": [
    {
     "name": "stdout",
     "output_type": "stream",
     "text": [
      "Calculating distance matrix...\n"
     ]
    },
    {
     "name": "stderr",
     "output_type": "stream",
     "text": [
      "100%|██████████| 1470/1470 [04:11<00:00,  5.84it/s]\n"
     ]
    },
    {
     "data": {
      "text/plain": [
       "251.88884282112122"
      ]
     },
     "execution_count": 4,
     "metadata": {},
     "output_type": "execute_result"
    }
   ],
   "source": [
    "agnes = Agnes('hamming') \n",
    "start = time.time()\n",
    "agnes.cluster(X, stop=True) \n",
    "end = time.time() - start\n",
    "dist_matrix = agnes.dist_matrix \n",
    "file = open('Agnes//Distances_Hamming.pkl', 'wb')\n",
    "pickle.dump(dist_matrix, file)\n",
    "end"
   ]
  },
  {
   "cell_type": "code",
   "execution_count": 5,
   "metadata": {},
   "outputs": [
    {
     "name": "stdout",
     "output_type": "stream",
     "text": [
      "Calculating distance matrix...\n"
     ]
    },
    {
     "name": "stderr",
     "output_type": "stream",
     "text": [
      "100%|██████████| 1470/1470 [00:36<00:00, 40.18it/s]\n"
     ]
    },
    {
     "data": {
      "text/plain": [
       "36.591331005096436"
      ]
     },
     "execution_count": 5,
     "metadata": {},
     "output_type": "execute_result"
    }
   ],
   "source": [
    "agnes = Agnes('manhattan') \n",
    "start = time.time()\n",
    "agnes.cluster(X, stop=True) \n",
    "end = time.time() - start\n",
    "dist_matrix = agnes.dist_matrix \n",
    "file = open('Agnes//Distances_Manhattan.pkl', 'wb')\n",
    "pickle.dump(dist_matrix, file)\n",
    "end"
   ]
  },
  {
   "cell_type": "code",
   "execution_count": 6,
   "metadata": {},
   "outputs": [
    {
     "name": "stdout",
     "output_type": "stream",
     "text": [
      "Calculating distance matrix...\n"
     ]
    },
    {
     "name": "stderr",
     "output_type": "stream",
     "text": [
      "100%|██████████| 1470/1470 [00:40<00:00, 36.18it/s]\n"
     ]
    },
    {
     "data": {
      "text/plain": [
       "40.637150287628174"
      ]
     },
     "execution_count": 6,
     "metadata": {},
     "output_type": "execute_result"
    }
   ],
   "source": [
    "agnes = Agnes('manhattan') \n",
    "start = time.time()\n",
    "agnes.cluster(X_normalized, stop=True) \n",
    "end = time.time() - start\n",
    "dist_matrix = agnes.dist_matrix \n",
    "file = open('Agnes//Distances_Manhattan_Norm.pkl', 'wb')\n",
    "pickle.dump(dist_matrix, file)\n",
    "end"
   ]
  },
  {
   "cell_type": "code",
   "execution_count": 7,
   "metadata": {},
   "outputs": [
    {
     "name": "stdout",
     "output_type": "stream",
     "text": [
      "Calculating distance matrix...\n"
     ]
    },
    {
     "name": "stderr",
     "output_type": "stream",
     "text": [
      "100%|██████████| 1470/1470 [00:41<00:00, 35.48it/s]\n"
     ]
    },
    {
     "data": {
      "text/plain": [
       "41.43507695198059"
      ]
     },
     "execution_count": 7,
     "metadata": {},
     "output_type": "execute_result"
    }
   ],
   "source": [
    "agnes = Agnes('manhattan') \n",
    "start = time.time()\n",
    "agnes.cluster(X_standardized, stop=True) \n",
    "end = time.time() - start\n",
    "dist_matrix = agnes.dist_matrix \n",
    "file = open('Agnes//Distances_Manhattan_Std.pkl', 'wb')\n",
    "pickle.dump(dist_matrix, file)\n",
    "end"
   ]
  },
  {
   "attachments": {},
   "cell_type": "markdown",
   "metadata": {},
   "source": [
    "# Centroids"
   ]
  },
  {
   "cell_type": "code",
   "execution_count": 8,
   "metadata": {},
   "outputs": [
    {
     "name": "stdout",
     "output_type": "stream",
     "text": [
      "Hamming done 182.92126893997192\n"
     ]
    },
    {
     "ename": "KeyboardInterrupt",
     "evalue": "",
     "output_type": "error",
     "traceback": [
      "\u001b[1;31m---------------------------------------------------------------------------\u001b[0m",
      "\u001b[1;31mKeyboardInterrupt\u001b[0m                         Traceback (most recent call last)",
      "Cell \u001b[1;32mIn [8], line 13\u001b[0m\n\u001b[0;32m     11\u001b[0m     dist_matrix \u001b[39m=\u001b[39m pickle\u001b[39m.\u001b[39mload(f) \n\u001b[0;32m     12\u001b[0m start \u001b[39m=\u001b[39m time\u001b[39m.\u001b[39mtime()\n\u001b[1;32m---> 13\u001b[0m clusters_M, distances_M, nb_clusters_M \u001b[39m=\u001b[39m agnes\u001b[39m.\u001b[39;49mcluster(X, dist_matrix\u001b[39m=\u001b[39;49mdist_matrix) \n\u001b[0;32m     14\u001b[0m end \u001b[39m=\u001b[39m time\u001b[39m.\u001b[39mtime() \u001b[39m-\u001b[39m start\n\u001b[0;32m     15\u001b[0m \u001b[39mprint\u001b[39m(\u001b[39m'\u001b[39m\u001b[39mManhattan done\u001b[39m\u001b[39m'\u001b[39m, end)\n",
      "File \u001b[1;32mc:\\Users\\DELL\\Downloads\\M2Code\\DM\\Project\\DM-main\\Clustering\\Agnes.py:61\u001b[0m, in \u001b[0;36mAgnes.cluster\u001b[1;34m(self, X, stop, dist_matrix)\u001b[0m\n\u001b[0;32m     58\u001b[0m clusters[i] \u001b[39m+\u001b[39m\u001b[39m=\u001b[39m clusters[j]\n\u001b[0;32m     59\u001b[0m \u001b[39mdel\u001b[39;00m clusters[j]                   \n\u001b[1;32m---> 61\u001b[0m \u001b[39mself\u001b[39m\u001b[39m.\u001b[39mdist_matrix[i] \u001b[39m=\u001b[39m {c: \u001b[39mself\u001b[39m\u001b[39m.\u001b[39mlinkage([X[k] \u001b[39mfor\u001b[39;00m k \u001b[39min\u001b[39;00m clusters[i]], [X[k] \u001b[39mfor\u001b[39;00m k \u001b[39min\u001b[39;00m clusters[c]]) \u001b[39mfor\u001b[39;00m c \u001b[39min\u001b[39;00m \u001b[39mself\u001b[39m\u001b[39m.\u001b[39mdist_matrix\u001b[39m.\u001b[39mkeys() \u001b[39mif\u001b[39;00m c \u001b[39m!=\u001b[39m i \u001b[39mand\u001b[39;00m c \u001b[39m!=\u001b[39m j}\n\u001b[0;32m     62\u001b[0m \u001b[39mdel\u001b[39;00m \u001b[39mself\u001b[39m\u001b[39m.\u001b[39mdist_matrix[j]\n\u001b[0;32m     63\u001b[0m \u001b[39mfor\u001b[39;00m _, v \u001b[39min\u001b[39;00m \u001b[39mself\u001b[39m\u001b[39m.\u001b[39mdist_matrix\u001b[39m.\u001b[39mitems():\n",
      "File \u001b[1;32mc:\\Users\\DELL\\Downloads\\M2Code\\DM\\Project\\DM-main\\Clustering\\Agnes.py:61\u001b[0m, in \u001b[0;36m<dictcomp>\u001b[1;34m(.0)\u001b[0m\n\u001b[0;32m     58\u001b[0m clusters[i] \u001b[39m+\u001b[39m\u001b[39m=\u001b[39m clusters[j]\n\u001b[0;32m     59\u001b[0m \u001b[39mdel\u001b[39;00m clusters[j]                   \n\u001b[1;32m---> 61\u001b[0m \u001b[39mself\u001b[39m\u001b[39m.\u001b[39mdist_matrix[i] \u001b[39m=\u001b[39m {c: \u001b[39mself\u001b[39;49m\u001b[39m.\u001b[39;49mlinkage([X[k] \u001b[39mfor\u001b[39;49;00m k \u001b[39min\u001b[39;49;00m clusters[i]], [X[k] \u001b[39mfor\u001b[39;49;00m k \u001b[39min\u001b[39;49;00m clusters[c]]) \u001b[39mfor\u001b[39;00m c \u001b[39min\u001b[39;00m \u001b[39mself\u001b[39m\u001b[39m.\u001b[39mdist_matrix\u001b[39m.\u001b[39mkeys() \u001b[39mif\u001b[39;00m c \u001b[39m!=\u001b[39m i \u001b[39mand\u001b[39;00m c \u001b[39m!=\u001b[39m j}\n\u001b[0;32m     62\u001b[0m \u001b[39mdel\u001b[39;00m \u001b[39mself\u001b[39m\u001b[39m.\u001b[39mdist_matrix[j]\n\u001b[0;32m     63\u001b[0m \u001b[39mfor\u001b[39;00m _, v \u001b[39min\u001b[39;00m \u001b[39mself\u001b[39m\u001b[39m.\u001b[39mdist_matrix\u001b[39m.\u001b[39mitems():\n",
      "File \u001b[1;32mc:\\Users\\DELL\\Downloads\\M2Code\\DM\\Project\\DM-main\\Clustering\\Agnes.py:90\u001b[0m, in \u001b[0;36mAgnes.centroid_linkage\u001b[1;34m(self, c1, c2)\u001b[0m\n\u001b[0;32m     89\u001b[0m \u001b[39mdef\u001b[39;00m \u001b[39mcentroid_linkage\u001b[39m(\u001b[39mself\u001b[39m, c1, c2):\n\u001b[1;32m---> 90\u001b[0m     \u001b[39mreturn\u001b[39;00m \u001b[39mself\u001b[39m\u001b[39m.\u001b[39mdistance(np\u001b[39m.\u001b[39;49mmean(c1, axis\u001b[39m=\u001b[39;49m\u001b[39m0\u001b[39;49m), np\u001b[39m.\u001b[39mmean(c2, axis\u001b[39m=\u001b[39m\u001b[39m0\u001b[39m))\n",
      "File \u001b[1;32m<__array_function__ internals>:180\u001b[0m, in \u001b[0;36mmean\u001b[1;34m(*args, **kwargs)\u001b[0m\n",
      "File \u001b[1;32mc:\\Users\\DELL\\AppData\\Local\\Programs\\Python\\Python39\\lib\\site-packages\\numpy\\core\\fromnumeric.py:3474\u001b[0m, in \u001b[0;36mmean\u001b[1;34m(a, axis, dtype, out, keepdims, where)\u001b[0m\n\u001b[0;32m   3471\u001b[0m     \u001b[39melse\u001b[39;00m:\n\u001b[0;32m   3472\u001b[0m         \u001b[39mreturn\u001b[39;00m mean(axis\u001b[39m=\u001b[39maxis, dtype\u001b[39m=\u001b[39mdtype, out\u001b[39m=\u001b[39mout, \u001b[39m*\u001b[39m\u001b[39m*\u001b[39mkwargs)\n\u001b[1;32m-> 3474\u001b[0m \u001b[39mreturn\u001b[39;00m _methods\u001b[39m.\u001b[39m_mean(a, axis\u001b[39m=\u001b[39maxis, dtype\u001b[39m=\u001b[39mdtype,\n\u001b[0;32m   3475\u001b[0m                       out\u001b[39m=\u001b[39mout, \u001b[39m*\u001b[39m\u001b[39m*\u001b[39mkwargs)\n",
      "File \u001b[1;32mc:\\Users\\DELL\\AppData\\Local\\Programs\\Python\\Python39\\lib\\site-packages\\numpy\\core\\_methods.py:163\u001b[0m, in \u001b[0;36m_mean\u001b[1;34m(a, axis, dtype, out, keepdims, where)\u001b[0m\n\u001b[0;32m    162\u001b[0m \u001b[39mdef\u001b[39;00m \u001b[39m_mean\u001b[39m(a, axis\u001b[39m=\u001b[39m\u001b[39mNone\u001b[39;00m, dtype\u001b[39m=\u001b[39m\u001b[39mNone\u001b[39;00m, out\u001b[39m=\u001b[39m\u001b[39mNone\u001b[39;00m, keepdims\u001b[39m=\u001b[39m\u001b[39mFalse\u001b[39;00m, \u001b[39m*\u001b[39m, where\u001b[39m=\u001b[39m\u001b[39mTrue\u001b[39;00m):\n\u001b[1;32m--> 163\u001b[0m     arr \u001b[39m=\u001b[39m asanyarray(a)\n\u001b[0;32m    165\u001b[0m     is_float16_result \u001b[39m=\u001b[39m \u001b[39mFalse\u001b[39;00m\n\u001b[0;32m    167\u001b[0m     rcount \u001b[39m=\u001b[39m _count_reduce_items(arr, axis, keepdims\u001b[39m=\u001b[39mkeepdims, where\u001b[39m=\u001b[39mwhere)\n",
      "\u001b[1;31mKeyboardInterrupt\u001b[0m: "
     ]
    }
   ],
   "source": [
    "agnes = Agnes('hamming') \n",
    "with open('Agnes//Distances_Hamming.pkl', 'rb') as f:\n",
    "    dist_matrix = pickle.load(f) \n",
    "start = time.time()\n",
    "clusters_H, distances_H, nb_clusters_H = agnes.cluster(X, dist_matrix=dist_matrix) \n",
    "end = time.time() - start\n",
    "print('Hamming done', end)\n",
    "\n",
    "agnes = Agnes('manhattan') \n",
    "with open('Agnes//Distances_Manhattan.pkl', 'rb') as f:\n",
    "    dist_matrix = pickle.load(f) \n",
    "start = time.time()\n",
    "clusters_M, distances_M, nb_clusters_M = agnes.cluster(X, dist_matrix=dist_matrix) \n",
    "end = time.time() - start\n",
    "print('Manhattan done', end)\n",
    "\n",
    "agnes = Agnes('manhattan') \n",
    "with open('Agnes//Distances_Manhattan_Norm.pkl', 'rb') as f:\n",
    "    dist_matrix = pickle.load(f) \n",
    "start = time.time()\n",
    "clusters_N, distances_N, nb_clusters_N = agnes.cluster(X_normalized, dist_matrix=dist_matrix) \n",
    "end = time.time() - start\n",
    "print('Manhattan Norm done', end)\n",
    "\n",
    "agnes = Agnes('manhattan') \n",
    "with open('Agnes//Distances_Manhattan_Std.pkl', 'rb') as f:\n",
    "    dist_matrix = pickle.load(f) \n",
    "start = time.time()\n",
    "clusters_S, distances_S, nb_clusters_S = agnes.cluster(X_standardized, dist_matrix=dist_matrix) \n",
    "end = time.time() - start\n",
    "print('Manhattan Std done', end)"
   ]
  },
  {
   "cell_type": "code",
   "execution_count": null,
   "metadata": {},
   "outputs": [
    {
     "ename": "AttributeError",
     "evalue": "module 'numpy' has no attribute 'matrix'",
     "output_type": "error",
     "traceback": [
      "\u001b[1;31m---------------------------------------------------------------------------\u001b[0m",
      "\u001b[1;31mAttributeError\u001b[0m                            Traceback (most recent call last)",
      "Cell \u001b[1;32mIn [35], line 7\u001b[0m\n\u001b[0;32m      4\u001b[0m ax\u001b[39m.\u001b[39mset_xlabel(\u001b[39m'\u001b[39m\u001b[39m#Iterations\u001b[39m\u001b[39m'\u001b[39m)\n\u001b[0;32m      5\u001b[0m ax\u001b[39m.\u001b[39mset_ylabel(\u001b[39m'\u001b[39m\u001b[39mMin ditsance\u001b[39m\u001b[39m'\u001b[39m)\n\u001b[1;32m----> 7\u001b[0m ax2 \u001b[39m=\u001b[39m ax\u001b[39m.\u001b[39;49mtwinx()\n\u001b[0;32m      8\u001b[0m ax2\u001b[39m.\u001b[39mplot(nb_clusters_H, color\u001b[39m=\u001b[39m\u001b[39m'\u001b[39m\u001b[39mpurple\u001b[39m\u001b[39m'\u001b[39m, label\u001b[39m=\u001b[39m\u001b[39m'\u001b[39m\u001b[39m#Clusters\u001b[39m\u001b[39m'\u001b[39m)\n\u001b[0;32m      9\u001b[0m ax2\u001b[39m.\u001b[39mset_yscale(\u001b[39m'\u001b[39m\u001b[39mlog\u001b[39m\u001b[39m'\u001b[39m)\n",
      "File \u001b[1;32mc:\\Users\\DELL\\AppData\\Local\\Programs\\Python\\Python39\\lib\\site-packages\\matplotlib\\axes\\_base.py:4530\u001b[0m, in \u001b[0;36m_AxesBase.twinx\u001b[1;34m(self)\u001b[0m\n\u001b[0;32m   4510\u001b[0m \u001b[39mdef\u001b[39;00m \u001b[39mtwinx\u001b[39m(\u001b[39mself\u001b[39m):\n\u001b[0;32m   4511\u001b[0m     \u001b[39m\"\"\"\u001b[39;00m\n\u001b[0;32m   4512\u001b[0m \u001b[39m    Create a twin Axes sharing the xaxis.\u001b[39;00m\n\u001b[0;32m   4513\u001b[0m \n\u001b[1;32m   (...)\u001b[0m\n\u001b[0;32m   4528\u001b[0m \u001b[39m    events are only called for the artists in the top-most axes.\u001b[39;00m\n\u001b[0;32m   4529\u001b[0m \u001b[39m    \"\"\"\u001b[39;00m\n\u001b[1;32m-> 4530\u001b[0m     ax2 \u001b[39m=\u001b[39m \u001b[39mself\u001b[39;49m\u001b[39m.\u001b[39;49m_make_twin_axes(sharex\u001b[39m=\u001b[39;49m\u001b[39mself\u001b[39;49m)\n\u001b[0;32m   4531\u001b[0m     ax2\u001b[39m.\u001b[39myaxis\u001b[39m.\u001b[39mtick_right()\n\u001b[0;32m   4532\u001b[0m     ax2\u001b[39m.\u001b[39myaxis\u001b[39m.\u001b[39mset_label_position(\u001b[39m'\u001b[39m\u001b[39mright\u001b[39m\u001b[39m'\u001b[39m)\n",
      "File \u001b[1;32mc:\\Users\\DELL\\AppData\\Local\\Programs\\Python\\Python39\\lib\\site-packages\\matplotlib\\axes\\_subplots.py:144\u001b[0m, in \u001b[0;36mSubplotBase._make_twin_axes\u001b[1;34m(self, *args, **kwargs)\u001b[0m\n\u001b[0;32m    142\u001b[0m     \u001b[39mif\u001b[39;00m kwargs[\u001b[39m\"\u001b[39m\u001b[39msharex\u001b[39m\u001b[39m\"\u001b[39m] \u001b[39mis\u001b[39;00m \u001b[39mnot\u001b[39;00m \u001b[39mself\u001b[39m \u001b[39mand\u001b[39;00m kwargs[\u001b[39m\"\u001b[39m\u001b[39msharey\u001b[39m\u001b[39m\"\u001b[39m] \u001b[39mis\u001b[39;00m \u001b[39mnot\u001b[39;00m \u001b[39mself\u001b[39m:\n\u001b[0;32m    143\u001b[0m         \u001b[39mraise\u001b[39;00m \u001b[39mValueError\u001b[39;00m(\u001b[39m\"\u001b[39m\u001b[39mTwinned Axes may share only one axis\u001b[39m\u001b[39m\"\u001b[39m)\n\u001b[1;32m--> 144\u001b[0m twin \u001b[39m=\u001b[39m \u001b[39mself\u001b[39m\u001b[39m.\u001b[39mfigure\u001b[39m.\u001b[39madd_subplot(\u001b[39mself\u001b[39m\u001b[39m.\u001b[39mget_subplotspec(), \u001b[39m*\u001b[39margs, \u001b[39m*\u001b[39m\u001b[39m*\u001b[39mkwargs)\n\u001b[0;32m    145\u001b[0m \u001b[39mself\u001b[39m\u001b[39m.\u001b[39mset_adjustable(\u001b[39m'\u001b[39m\u001b[39mdatalim\u001b[39m\u001b[39m'\u001b[39m)\n\u001b[0;32m    146\u001b[0m twin\u001b[39m.\u001b[39mset_adjustable(\u001b[39m'\u001b[39m\u001b[39mdatalim\u001b[39m\u001b[39m'\u001b[39m)\n",
      "File \u001b[1;32mc:\\Users\\DELL\\AppData\\Local\\Programs\\Python\\Python39\\lib\\site-packages\\matplotlib\\figure.py:781\u001b[0m, in \u001b[0;36mFigureBase.add_subplot\u001b[1;34m(self, *args, **kwargs)\u001b[0m\n\u001b[0;32m    778\u001b[0m         args \u001b[39m=\u001b[39m \u001b[39mtuple\u001b[39m(\u001b[39mmap\u001b[39m(\u001b[39mint\u001b[39m, \u001b[39mstr\u001b[39m(args[\u001b[39m0\u001b[39m])))\n\u001b[0;32m    779\u001b[0m     projection_class, pkw \u001b[39m=\u001b[39m \u001b[39mself\u001b[39m\u001b[39m.\u001b[39m_process_projection_requirements(\n\u001b[0;32m    780\u001b[0m         \u001b[39m*\u001b[39margs, \u001b[39m*\u001b[39m\u001b[39m*\u001b[39mkwargs)\n\u001b[1;32m--> 781\u001b[0m     ax \u001b[39m=\u001b[39m subplot_class_factory(projection_class)(\u001b[39mself\u001b[39m, \u001b[39m*\u001b[39margs, \u001b[39m*\u001b[39m\u001b[39m*\u001b[39mpkw)\n\u001b[0;32m    782\u001b[0m     key \u001b[39m=\u001b[39m (projection_class, pkw)\n\u001b[0;32m    783\u001b[0m \u001b[39mreturn\u001b[39;00m \u001b[39mself\u001b[39m\u001b[39m.\u001b[39m_add_axes_internal(ax, key)\n",
      "File \u001b[1;32mc:\\Users\\DELL\\AppData\\Local\\Programs\\Python\\Python39\\lib\\site-packages\\matplotlib\\axes\\_subplots.py:36\u001b[0m, in \u001b[0;36mSubplotBase.__init__\u001b[1;34m(self, fig, *args, **kwargs)\u001b[0m\n\u001b[0;32m     17\u001b[0m \u001b[39m\"\"\"\u001b[39;00m\n\u001b[0;32m     18\u001b[0m \u001b[39mParameters\u001b[39;00m\n\u001b[0;32m     19\u001b[0m \u001b[39m----------\u001b[39;00m\n\u001b[1;32m   (...)\u001b[0m\n\u001b[0;32m     33\u001b[0m \u001b[39m    Keyword arguments are passed to the Axes (sub)class constructor.\u001b[39;00m\n\u001b[0;32m     34\u001b[0m \u001b[39m\"\"\"\u001b[39;00m\n\u001b[0;32m     35\u001b[0m \u001b[39m# _axes_class is set in the subplot_class_factory\u001b[39;00m\n\u001b[1;32m---> 36\u001b[0m \u001b[39mself\u001b[39m\u001b[39m.\u001b[39m_axes_class\u001b[39m.\u001b[39m\u001b[39m__init__\u001b[39m(\u001b[39mself\u001b[39m, fig, [\u001b[39m0\u001b[39m, \u001b[39m0\u001b[39m, \u001b[39m1\u001b[39m, \u001b[39m1\u001b[39m], \u001b[39m*\u001b[39m\u001b[39m*\u001b[39mkwargs)\n\u001b[0;32m     37\u001b[0m \u001b[39m# This will also update the axes position.\u001b[39;00m\n\u001b[0;32m     38\u001b[0m \u001b[39mself\u001b[39m\u001b[39m.\u001b[39mset_subplotspec(SubplotSpec\u001b[39m.\u001b[39m_from_subplot_args(fig, args))\n",
      "File \u001b[1;32mc:\\Users\\DELL\\AppData\\Local\\Programs\\Python\\Python39\\lib\\site-packages\\matplotlib\\_api\\deprecation.py:471\u001b[0m, in \u001b[0;36mmake_keyword_only.<locals>.wrapper\u001b[1;34m(*args, **kwargs)\u001b[0m\n\u001b[0;32m    465\u001b[0m \u001b[39mif\u001b[39;00m \u001b[39mlen\u001b[39m(args) \u001b[39m>\u001b[39m idx:\n\u001b[0;32m    466\u001b[0m     warn_deprecated(\n\u001b[0;32m    467\u001b[0m         since, message\u001b[39m=\u001b[39m\u001b[39m\"\u001b[39m\u001b[39mPassing the \u001b[39m\u001b[39m%(name)s\u001b[39;00m\u001b[39m \u001b[39m\u001b[39m%(obj_type)s\u001b[39;00m\u001b[39m \u001b[39m\u001b[39m\"\u001b[39m\n\u001b[0;32m    468\u001b[0m         \u001b[39m\"\u001b[39m\u001b[39mpositionally is deprecated since Matplotlib \u001b[39m\u001b[39m%(since)s\u001b[39;00m\u001b[39m; the \u001b[39m\u001b[39m\"\u001b[39m\n\u001b[0;32m    469\u001b[0m         \u001b[39m\"\u001b[39m\u001b[39mparameter will become keyword-only \u001b[39m\u001b[39m%(removal)s\u001b[39;00m\u001b[39m.\u001b[39m\u001b[39m\"\u001b[39m,\n\u001b[0;32m    470\u001b[0m         name\u001b[39m=\u001b[39mname, obj_type\u001b[39m=\u001b[39m\u001b[39mf\u001b[39m\u001b[39m\"\u001b[39m\u001b[39mparameter of \u001b[39m\u001b[39m{\u001b[39;00mfunc\u001b[39m.\u001b[39m\u001b[39m__name__\u001b[39m\u001b[39m}\u001b[39;00m\u001b[39m()\u001b[39m\u001b[39m\"\u001b[39m)\n\u001b[1;32m--> 471\u001b[0m \u001b[39mreturn\u001b[39;00m func(\u001b[39m*\u001b[39margs, \u001b[39m*\u001b[39m\u001b[39m*\u001b[39mkwargs)\n",
      "File \u001b[1;32mc:\\Users\\DELL\\AppData\\Local\\Programs\\Python\\Python39\\lib\\site-packages\\matplotlib\\axes\\_base.py:634\u001b[0m, in \u001b[0;36m_AxesBase.__init__\u001b[1;34m(self, fig, rect, facecolor, frameon, sharex, sharey, label, xscale, yscale, box_aspect, **kwargs)\u001b[0m\n\u001b[0;32m    631\u001b[0m \u001b[39mself\u001b[39m\u001b[39m.\u001b[39mset_axisbelow(mpl\u001b[39m.\u001b[39mrcParams[\u001b[39m'\u001b[39m\u001b[39maxes.axisbelow\u001b[39m\u001b[39m'\u001b[39m])\n\u001b[0;32m    633\u001b[0m \u001b[39mself\u001b[39m\u001b[39m.\u001b[39m_rasterization_zorder \u001b[39m=\u001b[39m \u001b[39mNone\u001b[39;00m\n\u001b[1;32m--> 634\u001b[0m \u001b[39mself\u001b[39;49m\u001b[39m.\u001b[39;49mcla()\n\u001b[0;32m    636\u001b[0m \u001b[39m# funcs used to format x and y - fall back on major formatters\u001b[39;00m\n\u001b[0;32m    637\u001b[0m \u001b[39mself\u001b[39m\u001b[39m.\u001b[39mfmt_xdata \u001b[39m=\u001b[39m \u001b[39mNone\u001b[39;00m\n",
      "File \u001b[1;32mc:\\Users\\DELL\\AppData\\Local\\Programs\\Python\\Python39\\lib\\site-packages\\matplotlib\\axes\\_base.py:1195\u001b[0m, in \u001b[0;36m_AxesBase.cla\u001b[1;34m(self)\u001b[0m\n\u001b[0;32m   1192\u001b[0m \u001b[39mself\u001b[39m\u001b[39m.\u001b[39mcallbacks \u001b[39m=\u001b[39m cbook\u001b[39m.\u001b[39mCallbackRegistry()\n\u001b[0;32m   1194\u001b[0m \u001b[39mif\u001b[39;00m \u001b[39mself\u001b[39m\u001b[39m.\u001b[39m_sharex \u001b[39mis\u001b[39;00m \u001b[39mnot\u001b[39;00m \u001b[39mNone\u001b[39;00m:\n\u001b[1;32m-> 1195\u001b[0m     \u001b[39mself\u001b[39;49m\u001b[39m.\u001b[39;49msharex(\u001b[39mself\u001b[39;49m\u001b[39m.\u001b[39;49m_sharex)\n\u001b[0;32m   1196\u001b[0m \u001b[39melse\u001b[39;00m:\n\u001b[0;32m   1197\u001b[0m     \u001b[39mself\u001b[39m\u001b[39m.\u001b[39mxaxis\u001b[39m.\u001b[39m_set_scale(\u001b[39m'\u001b[39m\u001b[39mlinear\u001b[39m\u001b[39m'\u001b[39m)\n",
      "File \u001b[1;32mc:\\Users\\DELL\\AppData\\Local\\Programs\\Python\\Python39\\lib\\site-packages\\matplotlib\\axes\\_base.py:1149\u001b[0m, in \u001b[0;36m_AxesBase.sharex\u001b[1;34m(self, other)\u001b[0m\n\u001b[0;32m   1147\u001b[0m \u001b[39mself\u001b[39m\u001b[39m.\u001b[39mxaxis\u001b[39m.\u001b[39mmajor \u001b[39m=\u001b[39m other\u001b[39m.\u001b[39mxaxis\u001b[39m.\u001b[39mmajor  \u001b[39m# Ticker instances holding\u001b[39;00m\n\u001b[0;32m   1148\u001b[0m \u001b[39mself\u001b[39m\u001b[39m.\u001b[39mxaxis\u001b[39m.\u001b[39mminor \u001b[39m=\u001b[39m other\u001b[39m.\u001b[39mxaxis\u001b[39m.\u001b[39mminor  \u001b[39m# locator and formatter.\u001b[39;00m\n\u001b[1;32m-> 1149\u001b[0m x0, x1 \u001b[39m=\u001b[39m other\u001b[39m.\u001b[39;49mget_xlim()\n\u001b[0;32m   1150\u001b[0m \u001b[39mself\u001b[39m\u001b[39m.\u001b[39mset_xlim(x0, x1, emit\u001b[39m=\u001b[39m\u001b[39mFalse\u001b[39;00m, auto\u001b[39m=\u001b[39mother\u001b[39m.\u001b[39mget_autoscalex_on())\n\u001b[0;32m   1151\u001b[0m \u001b[39mself\u001b[39m\u001b[39m.\u001b[39mxaxis\u001b[39m.\u001b[39m_scale \u001b[39m=\u001b[39m other\u001b[39m.\u001b[39mxaxis\u001b[39m.\u001b[39m_scale\n",
      "File \u001b[1;32mc:\\Users\\DELL\\AppData\\Local\\Programs\\Python\\Python39\\lib\\site-packages\\matplotlib\\axes\\_base.py:3427\u001b[0m, in \u001b[0;36m_AxesBase.get_xlim\u001b[1;34m(self)\u001b[0m\n\u001b[0;32m   3406\u001b[0m \u001b[39mdef\u001b[39;00m \u001b[39mget_xlim\u001b[39m(\u001b[39mself\u001b[39m):\n\u001b[0;32m   3407\u001b[0m     \u001b[39m\"\"\"\u001b[39;00m\n\u001b[0;32m   3408\u001b[0m \u001b[39m    Return the x-axis view limits.\u001b[39;00m\n\u001b[0;32m   3409\u001b[0m \n\u001b[1;32m   (...)\u001b[0m\n\u001b[0;32m   3425\u001b[0m \n\u001b[0;32m   3426\u001b[0m \u001b[39m    \"\"\"\u001b[39;00m\n\u001b[1;32m-> 3427\u001b[0m     \u001b[39mreturn\u001b[39;00m \u001b[39mtuple\u001b[39m(\u001b[39mself\u001b[39;49m\u001b[39m.\u001b[39;49mviewLim\u001b[39m.\u001b[39mintervalx)\n",
      "File \u001b[1;32mc:\\Users\\DELL\\AppData\\Local\\Programs\\Python\\Python39\\lib\\site-packages\\matplotlib\\axes\\_base.py:782\u001b[0m, in \u001b[0;36m_AxesBase.viewLim\u001b[1;34m(self)\u001b[0m\n\u001b[0;32m    780\u001b[0m \u001b[39m@property\u001b[39m\n\u001b[0;32m    781\u001b[0m \u001b[39mdef\u001b[39;00m \u001b[39mviewLim\u001b[39m(\u001b[39mself\u001b[39m):\n\u001b[1;32m--> 782\u001b[0m     \u001b[39mself\u001b[39;49m\u001b[39m.\u001b[39;49m_unstale_viewLim()\n\u001b[0;32m    783\u001b[0m     \u001b[39mreturn\u001b[39;00m \u001b[39mself\u001b[39m\u001b[39m.\u001b[39m_viewLim\n",
      "File \u001b[1;32mc:\\Users\\DELL\\AppData\\Local\\Programs\\Python\\Python39\\lib\\site-packages\\matplotlib\\axes\\_base.py:778\u001b[0m, in \u001b[0;36m_AxesBase._unstale_viewLim\u001b[1;34m(self)\u001b[0m\n\u001b[0;32m    776\u001b[0m \u001b[39mfor\u001b[39;00m ax \u001b[39min\u001b[39;00m \u001b[39mself\u001b[39m\u001b[39m.\u001b[39m_shared_y_axes\u001b[39m.\u001b[39mget_siblings(\u001b[39mself\u001b[39m):\n\u001b[0;32m    777\u001b[0m     ax\u001b[39m.\u001b[39m_stale_viewlim_y \u001b[39m=\u001b[39m \u001b[39mFalse\u001b[39;00m\n\u001b[1;32m--> 778\u001b[0m \u001b[39mself\u001b[39;49m\u001b[39m.\u001b[39;49mautoscale_view(scalex\u001b[39m=\u001b[39;49mscalex, scaley\u001b[39m=\u001b[39;49mscaley)\n",
      "File \u001b[1;32mc:\\Users\\DELL\\AppData\\Local\\Programs\\Python\\Python39\\lib\\site-packages\\matplotlib\\axes\\_base.py:2757\u001b[0m, in \u001b[0;36m_AxesBase.autoscale_view\u001b[1;34m(self, tight, scalex, scaley)\u001b[0m\n\u001b[0;32m   2754\u001b[0m     set_bound(x0, x1)\n\u001b[0;32m   2755\u001b[0m     \u001b[39m# End of definition of internal function 'handle_single_axis'.\u001b[39;00m\n\u001b[1;32m-> 2757\u001b[0m handle_single_axis(\n\u001b[0;32m   2758\u001b[0m     scalex, \u001b[39mself\u001b[39;49m\u001b[39m.\u001b[39;49m_autoscaleXon, \u001b[39mself\u001b[39;49m\u001b[39m.\u001b[39;49m_shared_x_axes, \u001b[39m'\u001b[39;49m\u001b[39mintervalx\u001b[39;49m\u001b[39m'\u001b[39;49m,\n\u001b[0;32m   2759\u001b[0m     \u001b[39m'\u001b[39;49m\u001b[39mminposx\u001b[39;49m\u001b[39m'\u001b[39;49m, \u001b[39mself\u001b[39;49m\u001b[39m.\u001b[39;49mxaxis, \u001b[39mself\u001b[39;49m\u001b[39m.\u001b[39;49m_xmargin, x_stickies, \u001b[39mself\u001b[39;49m\u001b[39m.\u001b[39;49mset_xbound)\n\u001b[0;32m   2760\u001b[0m handle_single_axis(\n\u001b[0;32m   2761\u001b[0m     scaley, \u001b[39mself\u001b[39m\u001b[39m.\u001b[39m_autoscaleYon, \u001b[39mself\u001b[39m\u001b[39m.\u001b[39m_shared_y_axes, \u001b[39m'\u001b[39m\u001b[39mintervaly\u001b[39m\u001b[39m'\u001b[39m,\n\u001b[0;32m   2762\u001b[0m     \u001b[39m'\u001b[39m\u001b[39mminposy\u001b[39m\u001b[39m'\u001b[39m, \u001b[39mself\u001b[39m\u001b[39m.\u001b[39myaxis, \u001b[39mself\u001b[39m\u001b[39m.\u001b[39m_ymargin, y_stickies, \u001b[39mself\u001b[39m\u001b[39m.\u001b[39mset_ybound)\n",
      "File \u001b[1;32mc:\\Users\\DELL\\AppData\\Local\\Programs\\Python\\Python39\\lib\\site-packages\\matplotlib\\axes\\_base.py:2712\u001b[0m, in \u001b[0;36m_AxesBase.autoscale_view.<locals>.handle_single_axis\u001b[1;34m(scale, autoscaleon, shared_axes, interval, minpos, axis, margin, stickies, set_bound)\u001b[0m\n\u001b[0;32m   2709\u001b[0m     x_values\u001b[39m.\u001b[39mextend(\u001b[39mgetattr\u001b[39m(ax\u001b[39m.\u001b[39mdataLim, interval))\n\u001b[0;32m   2710\u001b[0m     minimum_minpos \u001b[39m=\u001b[39m \u001b[39mmin\u001b[39m(minimum_minpos,\n\u001b[0;32m   2711\u001b[0m                          \u001b[39mgetattr\u001b[39m(ax\u001b[39m.\u001b[39mdataLim, minpos))\n\u001b[1;32m-> 2712\u001b[0m x_values \u001b[39m=\u001b[39m np\u001b[39m.\u001b[39;49mextract(np\u001b[39m.\u001b[39;49misfinite(x_values), x_values)\n\u001b[0;32m   2713\u001b[0m \u001b[39mif\u001b[39;00m x_values\u001b[39m.\u001b[39msize \u001b[39m>\u001b[39m\u001b[39m=\u001b[39m \u001b[39m1\u001b[39m:\n\u001b[0;32m   2714\u001b[0m     x0, x1 \u001b[39m=\u001b[39m (x_values\u001b[39m.\u001b[39mmin(), x_values\u001b[39m.\u001b[39mmax())\n",
      "File \u001b[1;32m<__array_function__ internals>:180\u001b[0m, in \u001b[0;36mextract\u001b[1;34m(*args, **kwargs)\u001b[0m\n",
      "File \u001b[1;32mc:\\Users\\DELL\\AppData\\Local\\Programs\\Python\\Python39\\lib\\site-packages\\numpy\\lib\\function_base.py:1881\u001b[0m, in \u001b[0;36mextract\u001b[1;34m(condition, arr)\u001b[0m\n\u001b[0;32m   1832\u001b[0m \u001b[39m@array_function_dispatch\u001b[39m(_extract_dispatcher)\n\u001b[0;32m   1833\u001b[0m \u001b[39mdef\u001b[39;00m \u001b[39mextract\u001b[39m(condition, arr):\n\u001b[0;32m   1834\u001b[0m     \u001b[39m\"\"\"\u001b[39;00m\n\u001b[0;32m   1835\u001b[0m \u001b[39m    Return the elements of an array that satisfy some condition.\u001b[39;00m\n\u001b[0;32m   1836\u001b[0m \n\u001b[1;32m   (...)\u001b[0m\n\u001b[0;32m   1879\u001b[0m \n\u001b[0;32m   1880\u001b[0m \u001b[39m    \"\"\"\u001b[39;00m\n\u001b[1;32m-> 1881\u001b[0m     \u001b[39mreturn\u001b[39;00m _nx\u001b[39m.\u001b[39mtake(ravel(arr), nonzero(ravel(condition))[\u001b[39m0\u001b[39m])\n",
      "File \u001b[1;32m<__array_function__ internals>:180\u001b[0m, in \u001b[0;36mravel\u001b[1;34m(*args, **kwargs)\u001b[0m\n",
      "File \u001b[1;32mc:\\Users\\DELL\\AppData\\Local\\Programs\\Python\\Python39\\lib\\site-packages\\numpy\\core\\fromnumeric.py:1856\u001b[0m, in \u001b[0;36mravel\u001b[1;34m(a, order)\u001b[0m\n\u001b[0;32m   1755\u001b[0m \u001b[39m@array_function_dispatch\u001b[39m(_ravel_dispatcher)\n\u001b[0;32m   1756\u001b[0m \u001b[39mdef\u001b[39;00m \u001b[39mravel\u001b[39m(a, order\u001b[39m=\u001b[39m\u001b[39m'\u001b[39m\u001b[39mC\u001b[39m\u001b[39m'\u001b[39m):\n\u001b[0;32m   1757\u001b[0m     \u001b[39m\"\"\"Return a contiguous flattened array.\u001b[39;00m\n\u001b[0;32m   1758\u001b[0m \n\u001b[0;32m   1759\u001b[0m \u001b[39m    A 1-D array, containing the elements of the input, is returned.  A copy is\u001b[39;00m\n\u001b[1;32m   (...)\u001b[0m\n\u001b[0;32m   1854\u001b[0m \n\u001b[0;32m   1855\u001b[0m \u001b[39m    \"\"\"\u001b[39;00m\n\u001b[1;32m-> 1856\u001b[0m     \u001b[39mif\u001b[39;00m \u001b[39misinstance\u001b[39m(a, np\u001b[39m.\u001b[39;49mmatrix):\n\u001b[0;32m   1857\u001b[0m         \u001b[39mreturn\u001b[39;00m asarray(a)\u001b[39m.\u001b[39mravel(order\u001b[39m=\u001b[39morder)\n\u001b[0;32m   1858\u001b[0m     \u001b[39melse\u001b[39;00m:\n",
      "\u001b[1;31mAttributeError\u001b[0m: module 'numpy' has no attribute 'matrix'"
     ]
    },
    {
     "data": {
      "image/png": "[encoded data removed]",
      "text/plain": [
       "<Figure size 640x480 with 1 Axes>"
      ]
     },
     "metadata": {},
     "output_type": "display_data"
    }
   ],
   "source": [
    "fig, ax = plt.subplots()\n",
    "ax.plot(distances_H, color='orange', label='Min Ditsance')\n",
    "ax.tick_params(axis='y', labelcolor='orange')\n",
    "ax.set_xlabel('#Iterations')\n",
    "ax.set_ylabel('Min ditsance')\n",
    "\n",
    "ax2 = ax.twinx()\n",
    "ax2.plot(nb_clusters_H, color='purple', label='#Clusters')\n",
    "ax2.set_yscale('log')\n",
    "ax2.tick_params(axis='y', labelcolor='purple')\n",
    "ax2.set_ylabel('#Clusters')\n",
    "\n",
    "ax.set_title('Evolution')\n",
    "plt.show()"
   ]
  },
  {
   "cell_type": "code",
   "execution_count": null,
   "metadata": {},
   "outputs": [
    {
     "ename": "AttributeError",
     "evalue": "module 'numpy' has no attribute 'matrix'",
     "output_type": "error",
     "traceback": [
      "\u001b[1;31m---------------------------------------------------------------------------\u001b[0m",
      "\u001b[1;31mAttributeError\u001b[0m                            Traceback (most recent call last)",
      "Cell \u001b[1;32mIn [27], line 7\u001b[0m\n\u001b[0;32m      4\u001b[0m ax\u001b[39m.\u001b[39mset_xlabel(\u001b[39m'\u001b[39m\u001b[39m#Iterations\u001b[39m\u001b[39m'\u001b[39m)\n\u001b[0;32m      5\u001b[0m ax\u001b[39m.\u001b[39mset_ylabel(\u001b[39m'\u001b[39m\u001b[39mMin ditsance\u001b[39m\u001b[39m'\u001b[39m)\n\u001b[1;32m----> 7\u001b[0m ax2 \u001b[39m=\u001b[39m ax\u001b[39m.\u001b[39;49mtwinx()\n\u001b[0;32m      8\u001b[0m ax2\u001b[39m.\u001b[39mplot(nb_clusters_M, color\u001b[39m=\u001b[39m\u001b[39m'\u001b[39m\u001b[39mpurple\u001b[39m\u001b[39m'\u001b[39m, label\u001b[39m=\u001b[39m\u001b[39m'\u001b[39m\u001b[39m#Clusters\u001b[39m\u001b[39m'\u001b[39m)\n\u001b[0;32m      9\u001b[0m ax2\u001b[39m.\u001b[39mset_yscale(\u001b[39m'\u001b[39m\u001b[39mlog\u001b[39m\u001b[39m'\u001b[39m)\n",
      "File \u001b[1;32mc:\\Users\\DELL\\AppData\\Local\\Programs\\Python\\Python39\\lib\\site-packages\\matplotlib\\axes\\_base.py:4530\u001b[0m, in \u001b[0;36m_AxesBase.twinx\u001b[1;34m(self)\u001b[0m\n\u001b[0;32m   4510\u001b[0m \u001b[39mdef\u001b[39;00m \u001b[39mtwinx\u001b[39m(\u001b[39mself\u001b[39m):\n\u001b[0;32m   4511\u001b[0m     \u001b[39m\"\"\"\u001b[39;00m\n\u001b[0;32m   4512\u001b[0m \u001b[39m    Create a twin Axes sharing the xaxis.\u001b[39;00m\n\u001b[0;32m   4513\u001b[0m \n\u001b[1;32m   (...)\u001b[0m\n\u001b[0;32m   4528\u001b[0m \u001b[39m    events are only called for the artists in the top-most axes.\u001b[39;00m\n\u001b[0;32m   4529\u001b[0m \u001b[39m    \"\"\"\u001b[39;00m\n\u001b[1;32m-> 4530\u001b[0m     ax2 \u001b[39m=\u001b[39m \u001b[39mself\u001b[39;49m\u001b[39m.\u001b[39;49m_make_twin_axes(sharex\u001b[39m=\u001b[39;49m\u001b[39mself\u001b[39;49m)\n\u001b[0;32m   4531\u001b[0m     ax2\u001b[39m.\u001b[39myaxis\u001b[39m.\u001b[39mtick_right()\n\u001b[0;32m   4532\u001b[0m     ax2\u001b[39m.\u001b[39myaxis\u001b[39m.\u001b[39mset_label_position(\u001b[39m'\u001b[39m\u001b[39mright\u001b[39m\u001b[39m'\u001b[39m)\n",
      "File \u001b[1;32mc:\\Users\\DELL\\AppData\\Local\\Programs\\Python\\Python39\\lib\\site-packages\\matplotlib\\axes\\_subplots.py:144\u001b[0m, in \u001b[0;36mSubplotBase._make_twin_axes\u001b[1;34m(self, *args, **kwargs)\u001b[0m\n\u001b[0;32m    142\u001b[0m     \u001b[39mif\u001b[39;00m kwargs[\u001b[39m\"\u001b[39m\u001b[39msharex\u001b[39m\u001b[39m\"\u001b[39m] \u001b[39mis\u001b[39;00m \u001b[39mnot\u001b[39;00m \u001b[39mself\u001b[39m \u001b[39mand\u001b[39;00m kwargs[\u001b[39m\"\u001b[39m\u001b[39msharey\u001b[39m\u001b[39m\"\u001b[39m] \u001b[39mis\u001b[39;00m \u001b[39mnot\u001b[39;00m \u001b[39mself\u001b[39m:\n\u001b[0;32m    143\u001b[0m         \u001b[39mraise\u001b[39;00m \u001b[39mValueError\u001b[39;00m(\u001b[39m\"\u001b[39m\u001b[39mTwinned Axes may share only one axis\u001b[39m\u001b[39m\"\u001b[39m)\n\u001b[1;32m--> 144\u001b[0m twin \u001b[39m=\u001b[39m \u001b[39mself\u001b[39m\u001b[39m.\u001b[39mfigure\u001b[39m.\u001b[39madd_subplot(\u001b[39mself\u001b[39m\u001b[39m.\u001b[39mget_subplotspec(), \u001b[39m*\u001b[39margs, \u001b[39m*\u001b[39m\u001b[39m*\u001b[39mkwargs)\n\u001b[0;32m    145\u001b[0m \u001b[39mself\u001b[39m\u001b[39m.\u001b[39mset_adjustable(\u001b[39m'\u001b[39m\u001b[39mdatalim\u001b[39m\u001b[39m'\u001b[39m)\n\u001b[0;32m    146\u001b[0m twin\u001b[39m.\u001b[39mset_adjustable(\u001b[39m'\u001b[39m\u001b[39mdatalim\u001b[39m\u001b[39m'\u001b[39m)\n",
      "File \u001b[1;32mc:\\Users\\DELL\\AppData\\Local\\Programs\\Python\\Python39\\lib\\site-packages\\matplotlib\\figure.py:781\u001b[0m, in \u001b[0;36mFigureBase.add_subplot\u001b[1;34m(self, *args, **kwargs)\u001b[0m\n\u001b[0;32m    778\u001b[0m         args \u001b[39m=\u001b[39m \u001b[39mtuple\u001b[39m(\u001b[39mmap\u001b[39m(\u001b[39mint\u001b[39m, \u001b[39mstr\u001b[39m(args[\u001b[39m0\u001b[39m])))\n\u001b[0;32m    779\u001b[0m     projection_class, pkw \u001b[39m=\u001b[39m \u001b[39mself\u001b[39m\u001b[39m.\u001b[39m_process_projection_requirements(\n\u001b[0;32m    780\u001b[0m         \u001b[39m*\u001b[39margs, \u001b[39m*\u001b[39m\u001b[39m*\u001b[39mkwargs)\n\u001b[1;32m--> 781\u001b[0m     ax \u001b[39m=\u001b[39m subplot_class_factory(projection_class)(\u001b[39mself\u001b[39m, \u001b[39m*\u001b[39margs, \u001b[39m*\u001b[39m\u001b[39m*\u001b[39mpkw)\n\u001b[0;32m    782\u001b[0m     key \u001b[39m=\u001b[39m (projection_class, pkw)\n\u001b[0;32m    783\u001b[0m \u001b[39mreturn\u001b[39;00m \u001b[39mself\u001b[39m\u001b[39m.\u001b[39m_add_axes_internal(ax, key)\n",
      "File \u001b[1;32mc:\\Users\\DELL\\AppData\\Local\\Programs\\Python\\Python39\\lib\\site-packages\\matplotlib\\axes\\_subplots.py:36\u001b[0m, in \u001b[0;36mSubplotBase.__init__\u001b[1;34m(self, fig, *args, **kwargs)\u001b[0m\n\u001b[0;32m     17\u001b[0m \u001b[39m\"\"\"\u001b[39;00m\n\u001b[0;32m     18\u001b[0m \u001b[39mParameters\u001b[39;00m\n\u001b[0;32m     19\u001b[0m \u001b[39m----------\u001b[39;00m\n\u001b[1;32m   (...)\u001b[0m\n\u001b[0;32m     33\u001b[0m \u001b[39m    Keyword arguments are passed to the Axes (sub)class constructor.\u001b[39;00m\n\u001b[0;32m     34\u001b[0m \u001b[39m\"\"\"\u001b[39;00m\n\u001b[0;32m     35\u001b[0m \u001b[39m# _axes_class is set in the subplot_class_factory\u001b[39;00m\n\u001b[1;32m---> 36\u001b[0m \u001b[39mself\u001b[39m\u001b[39m.\u001b[39m_axes_class\u001b[39m.\u001b[39m\u001b[39m__init__\u001b[39m(\u001b[39mself\u001b[39m, fig, [\u001b[39m0\u001b[39m, \u001b[39m0\u001b[39m, \u001b[39m1\u001b[39m, \u001b[39m1\u001b[39m], \u001b[39m*\u001b[39m\u001b[39m*\u001b[39mkwargs)\n\u001b[0;32m     37\u001b[0m \u001b[39m# This will also update the axes position.\u001b[39;00m\n\u001b[0;32m     38\u001b[0m \u001b[39mself\u001b[39m\u001b[39m.\u001b[39mset_subplotspec(SubplotSpec\u001b[39m.\u001b[39m_from_subplot_args(fig, args))\n",
      "File \u001b[1;32mc:\\Users\\DELL\\AppData\\Local\\Programs\\Python\\Python39\\lib\\site-packages\\matplotlib\\_api\\deprecation.py:471\u001b[0m, in \u001b[0;36mmake_keyword_only.<locals>.wrapper\u001b[1;34m(*args, **kwargs)\u001b[0m\n\u001b[0;32m    465\u001b[0m \u001b[39mif\u001b[39;00m \u001b[39mlen\u001b[39m(args) \u001b[39m>\u001b[39m idx:\n\u001b[0;32m    466\u001b[0m     warn_deprecated(\n\u001b[0;32m    467\u001b[0m         since, message\u001b[39m=\u001b[39m\u001b[39m\"\u001b[39m\u001b[39mPassing the \u001b[39m\u001b[39m%(name)s\u001b[39;00m\u001b[39m \u001b[39m\u001b[39m%(obj_type)s\u001b[39;00m\u001b[39m \u001b[39m\u001b[39m\"\u001b[39m\n\u001b[0;32m    468\u001b[0m         \u001b[39m\"\u001b[39m\u001b[39mpositionally is deprecated since Matplotlib \u001b[39m\u001b[39m%(since)s\u001b[39;00m\u001b[39m; the \u001b[39m\u001b[39m\"\u001b[39m\n\u001b[0;32m    469\u001b[0m         \u001b[39m\"\u001b[39m\u001b[39mparameter will become keyword-only \u001b[39m\u001b[39m%(removal)s\u001b[39;00m\u001b[39m.\u001b[39m\u001b[39m\"\u001b[39m,\n\u001b[0;32m    470\u001b[0m         name\u001b[39m=\u001b[39mname, obj_type\u001b[39m=\u001b[39m\u001b[39mf\u001b[39m\u001b[39m\"\u001b[39m\u001b[39mparameter of \u001b[39m\u001b[39m{\u001b[39;00mfunc\u001b[39m.\u001b[39m\u001b[39m__name__\u001b[39m\u001b[39m}\u001b[39;00m\u001b[39m()\u001b[39m\u001b[39m\"\u001b[39m)\n\u001b[1;32m--> 471\u001b[0m \u001b[39mreturn\u001b[39;00m func(\u001b[39m*\u001b[39margs, \u001b[39m*\u001b[39m\u001b[39m*\u001b[39mkwargs)\n",
      "File \u001b[1;32mc:\\Users\\DELL\\AppData\\Local\\Programs\\Python\\Python39\\lib\\site-packages\\matplotlib\\axes\\_base.py:634\u001b[0m, in \u001b[0;36m_AxesBase.__init__\u001b[1;34m(self, fig, rect, facecolor, frameon, sharex, sharey, label, xscale, yscale, box_aspect, **kwargs)\u001b[0m\n\u001b[0;32m    631\u001b[0m \u001b[39mself\u001b[39m\u001b[39m.\u001b[39mset_axisbelow(mpl\u001b[39m.\u001b[39mrcParams[\u001b[39m'\u001b[39m\u001b[39maxes.axisbelow\u001b[39m\u001b[39m'\u001b[39m])\n\u001b[0;32m    633\u001b[0m \u001b[39mself\u001b[39m\u001b[39m.\u001b[39m_rasterization_zorder \u001b[39m=\u001b[39m \u001b[39mNone\u001b[39;00m\n\u001b[1;32m--> 634\u001b[0m \u001b[39mself\u001b[39;49m\u001b[39m.\u001b[39;49mcla()\n\u001b[0;32m    636\u001b[0m \u001b[39m# funcs used to format x and y - fall back on major formatters\u001b[39;00m\n\u001b[0;32m    637\u001b[0m \u001b[39mself\u001b[39m\u001b[39m.\u001b[39mfmt_xdata \u001b[39m=\u001b[39m \u001b[39mNone\u001b[39;00m\n",
      "File \u001b[1;32mc:\\Users\\DELL\\AppData\\Local\\Programs\\Python\\Python39\\lib\\site-packages\\matplotlib\\axes\\_base.py:1195\u001b[0m, in \u001b[0;36m_AxesBase.cla\u001b[1;34m(self)\u001b[0m\n\u001b[0;32m   1192\u001b[0m \u001b[39mself\u001b[39m\u001b[39m.\u001b[39mcallbacks \u001b[39m=\u001b[39m cbook\u001b[39m.\u001b[39mCallbackRegistry()\n\u001b[0;32m   1194\u001b[0m \u001b[39mif\u001b[39;00m \u001b[39mself\u001b[39m\u001b[39m.\u001b[39m_sharex \u001b[39mis\u001b[39;00m \u001b[39mnot\u001b[39;00m \u001b[39mNone\u001b[39;00m:\n\u001b[1;32m-> 1195\u001b[0m     \u001b[39mself\u001b[39;49m\u001b[39m.\u001b[39;49msharex(\u001b[39mself\u001b[39;49m\u001b[39m.\u001b[39;49m_sharex)\n\u001b[0;32m   1196\u001b[0m \u001b[39melse\u001b[39;00m:\n\u001b[0;32m   1197\u001b[0m     \u001b[39mself\u001b[39m\u001b[39m.\u001b[39mxaxis\u001b[39m.\u001b[39m_set_scale(\u001b[39m'\u001b[39m\u001b[39mlinear\u001b[39m\u001b[39m'\u001b[39m)\n",
      "File \u001b[1;32mc:\\Users\\DELL\\AppData\\Local\\Programs\\Python\\Python39\\lib\\site-packages\\matplotlib\\axes\\_base.py:1149\u001b[0m, in \u001b[0;36m_AxesBase.sharex\u001b[1;34m(self, other)\u001b[0m\n\u001b[0;32m   1147\u001b[0m \u001b[39mself\u001b[39m\u001b[39m.\u001b[39mxaxis\u001b[39m.\u001b[39mmajor \u001b[39m=\u001b[39m other\u001b[39m.\u001b[39mxaxis\u001b[39m.\u001b[39mmajor  \u001b[39m# Ticker instances holding\u001b[39;00m\n\u001b[0;32m   1148\u001b[0m \u001b[39mself\u001b[39m\u001b[39m.\u001b[39mxaxis\u001b[39m.\u001b[39mminor \u001b[39m=\u001b[39m other\u001b[39m.\u001b[39mxaxis\u001b[39m.\u001b[39mminor  \u001b[39m# locator and formatter.\u001b[39;00m\n\u001b[1;32m-> 1149\u001b[0m x0, x1 \u001b[39m=\u001b[39m other\u001b[39m.\u001b[39;49mget_xlim()\n\u001b[0;32m   1150\u001b[0m \u001b[39mself\u001b[39m\u001b[39m.\u001b[39mset_xlim(x0, x1, emit\u001b[39m=\u001b[39m\u001b[39mFalse\u001b[39;00m, auto\u001b[39m=\u001b[39mother\u001b[39m.\u001b[39mget_autoscalex_on())\n\u001b[0;32m   1151\u001b[0m \u001b[39mself\u001b[39m\u001b[39m.\u001b[39mxaxis\u001b[39m.\u001b[39m_scale \u001b[39m=\u001b[39m other\u001b[39m.\u001b[39mxaxis\u001b[39m.\u001b[39m_scale\n",
      "File \u001b[1;32mc:\\Users\\DELL\\AppData\\Local\\Programs\\Python\\Python39\\lib\\site-packages\\matplotlib\\axes\\_base.py:3427\u001b[0m, in \u001b[0;36m_AxesBase.get_xlim\u001b[1;34m(self)\u001b[0m\n\u001b[0;32m   3406\u001b[0m \u001b[39mdef\u001b[39;00m \u001b[39mget_xlim\u001b[39m(\u001b[39mself\u001b[39m):\n\u001b[0;32m   3407\u001b[0m     \u001b[39m\"\"\"\u001b[39;00m\n\u001b[0;32m   3408\u001b[0m \u001b[39m    Return the x-axis view limits.\u001b[39;00m\n\u001b[0;32m   3409\u001b[0m \n\u001b[1;32m   (...)\u001b[0m\n\u001b[0;32m   3425\u001b[0m \n\u001b[0;32m   3426\u001b[0m \u001b[39m    \"\"\"\u001b[39;00m\n\u001b[1;32m-> 3427\u001b[0m     \u001b[39mreturn\u001b[39;00m \u001b[39mtuple\u001b[39m(\u001b[39mself\u001b[39;49m\u001b[39m.\u001b[39;49mviewLim\u001b[39m.\u001b[39mintervalx)\n",
      "File \u001b[1;32mc:\\Users\\DELL\\AppData\\Local\\Programs\\Python\\Python39\\lib\\site-packages\\matplotlib\\axes\\_base.py:782\u001b[0m, in \u001b[0;36m_AxesBase.viewLim\u001b[1;34m(self)\u001b[0m\n\u001b[0;32m    780\u001b[0m \u001b[39m@property\u001b[39m\n\u001b[0;32m    781\u001b[0m \u001b[39mdef\u001b[39;00m \u001b[39mviewLim\u001b[39m(\u001b[39mself\u001b[39m):\n\u001b[1;32m--> 782\u001b[0m     \u001b[39mself\u001b[39;49m\u001b[39m.\u001b[39;49m_unstale_viewLim()\n\u001b[0;32m    783\u001b[0m     \u001b[39mreturn\u001b[39;00m \u001b[39mself\u001b[39m\u001b[39m.\u001b[39m_viewLim\n",
      "File \u001b[1;32mc:\\Users\\DELL\\AppData\\Local\\Programs\\Python\\Python39\\lib\\site-packages\\matplotlib\\axes\\_base.py:778\u001b[0m, in \u001b[0;36m_AxesBase._unstale_viewLim\u001b[1;34m(self)\u001b[0m\n\u001b[0;32m    776\u001b[0m \u001b[39mfor\u001b[39;00m ax \u001b[39min\u001b[39;00m \u001b[39mself\u001b[39m\u001b[39m.\u001b[39m_shared_y_axes\u001b[39m.\u001b[39mget_siblings(\u001b[39mself\u001b[39m):\n\u001b[0;32m    777\u001b[0m     ax\u001b[39m.\u001b[39m_stale_viewlim_y \u001b[39m=\u001b[39m \u001b[39mFalse\u001b[39;00m\n\u001b[1;32m--> 778\u001b[0m \u001b[39mself\u001b[39;49m\u001b[39m.\u001b[39;49mautoscale_view(scalex\u001b[39m=\u001b[39;49mscalex, scaley\u001b[39m=\u001b[39;49mscaley)\n",
      "File \u001b[1;32mc:\\Users\\DELL\\AppData\\Local\\Programs\\Python\\Python39\\lib\\site-packages\\matplotlib\\axes\\_base.py:2757\u001b[0m, in \u001b[0;36m_AxesBase.autoscale_view\u001b[1;34m(self, tight, scalex, scaley)\u001b[0m\n\u001b[0;32m   2754\u001b[0m     set_bound(x0, x1)\n\u001b[0;32m   2755\u001b[0m     \u001b[39m# End of definition of internal function 'handle_single_axis'.\u001b[39;00m\n\u001b[1;32m-> 2757\u001b[0m handle_single_axis(\n\u001b[0;32m   2758\u001b[0m     scalex, \u001b[39mself\u001b[39;49m\u001b[39m.\u001b[39;49m_autoscaleXon, \u001b[39mself\u001b[39;49m\u001b[39m.\u001b[39;49m_shared_x_axes, \u001b[39m'\u001b[39;49m\u001b[39mintervalx\u001b[39;49m\u001b[39m'\u001b[39;49m,\n\u001b[0;32m   2759\u001b[0m     \u001b[39m'\u001b[39;49m\u001b[39mminposx\u001b[39;49m\u001b[39m'\u001b[39;49m, \u001b[39mself\u001b[39;49m\u001b[39m.\u001b[39;49mxaxis, \u001b[39mself\u001b[39;49m\u001b[39m.\u001b[39;49m_xmargin, x_stickies, \u001b[39mself\u001b[39;49m\u001b[39m.\u001b[39;49mset_xbound)\n\u001b[0;32m   2760\u001b[0m handle_single_axis(\n\u001b[0;32m   2761\u001b[0m     scaley, \u001b[39mself\u001b[39m\u001b[39m.\u001b[39m_autoscaleYon, \u001b[39mself\u001b[39m\u001b[39m.\u001b[39m_shared_y_axes, \u001b[39m'\u001b[39m\u001b[39mintervaly\u001b[39m\u001b[39m'\u001b[39m,\n\u001b[0;32m   2762\u001b[0m     \u001b[39m'\u001b[39m\u001b[39mminposy\u001b[39m\u001b[39m'\u001b[39m, \u001b[39mself\u001b[39m\u001b[39m.\u001b[39myaxis, \u001b[39mself\u001b[39m\u001b[39m.\u001b[39m_ymargin, y_stickies, \u001b[39mself\u001b[39m\u001b[39m.\u001b[39mset_ybound)\n",
      "File \u001b[1;32mc:\\Users\\DELL\\AppData\\Local\\Programs\\Python\\Python39\\lib\\site-packages\\matplotlib\\axes\\_base.py:2712\u001b[0m, in \u001b[0;36m_AxesBase.autoscale_view.<locals>.handle_single_axis\u001b[1;34m(scale, autoscaleon, shared_axes, interval, minpos, axis, margin, stickies, set_bound)\u001b[0m\n\u001b[0;32m   2709\u001b[0m     x_values\u001b[39m.\u001b[39mextend(\u001b[39mgetattr\u001b[39m(ax\u001b[39m.\u001b[39mdataLim, interval))\n\u001b[0;32m   2710\u001b[0m     minimum_minpos \u001b[39m=\u001b[39m \u001b[39mmin\u001b[39m(minimum_minpos,\n\u001b[0;32m   2711\u001b[0m                          \u001b[39mgetattr\u001b[39m(ax\u001b[39m.\u001b[39mdataLim, minpos))\n\u001b[1;32m-> 2712\u001b[0m x_values \u001b[39m=\u001b[39m np\u001b[39m.\u001b[39;49mextract(np\u001b[39m.\u001b[39;49misfinite(x_values), x_values)\n\u001b[0;32m   2713\u001b[0m \u001b[39mif\u001b[39;00m x_values\u001b[39m.\u001b[39msize \u001b[39m>\u001b[39m\u001b[39m=\u001b[39m \u001b[39m1\u001b[39m:\n\u001b[0;32m   2714\u001b[0m     x0, x1 \u001b[39m=\u001b[39m (x_values\u001b[39m.\u001b[39mmin(), x_values\u001b[39m.\u001b[39mmax())\n",
      "File \u001b[1;32m<__array_function__ internals>:180\u001b[0m, in \u001b[0;36mextract\u001b[1;34m(*args, **kwargs)\u001b[0m\n",
      "File \u001b[1;32mc:\\Users\\DELL\\AppData\\Local\\Programs\\Python\\Python39\\lib\\site-packages\\numpy\\lib\\function_base.py:1881\u001b[0m, in \u001b[0;36mextract\u001b[1;34m(condition, arr)\u001b[0m\n\u001b[0;32m   1832\u001b[0m \u001b[39m@array_function_dispatch\u001b[39m(_extract_dispatcher)\n\u001b[0;32m   1833\u001b[0m \u001b[39mdef\u001b[39;00m \u001b[39mextract\u001b[39m(condition, arr):\n\u001b[0;32m   1834\u001b[0m     \u001b[39m\"\"\"\u001b[39;00m\n\u001b[0;32m   1835\u001b[0m \u001b[39m    Return the elements of an array that satisfy some condition.\u001b[39;00m\n\u001b[0;32m   1836\u001b[0m \n\u001b[1;32m   (...)\u001b[0m\n\u001b[0;32m   1879\u001b[0m \n\u001b[0;32m   1880\u001b[0m \u001b[39m    \"\"\"\u001b[39;00m\n\u001b[1;32m-> 1881\u001b[0m     \u001b[39mreturn\u001b[39;00m _nx\u001b[39m.\u001b[39mtake(ravel(arr), nonzero(ravel(condition))[\u001b[39m0\u001b[39m])\n",
      "File \u001b[1;32m<__array_function__ internals>:180\u001b[0m, in \u001b[0;36mravel\u001b[1;34m(*args, **kwargs)\u001b[0m\n",
      "File \u001b[1;32mc:\\Users\\DELL\\AppData\\Local\\Programs\\Python\\Python39\\lib\\site-packages\\numpy\\core\\fromnumeric.py:1856\u001b[0m, in \u001b[0;36mravel\u001b[1;34m(a, order)\u001b[0m\n\u001b[0;32m   1755\u001b[0m \u001b[39m@array_function_dispatch\u001b[39m(_ravel_dispatcher)\n\u001b[0;32m   1756\u001b[0m \u001b[39mdef\u001b[39;00m \u001b[39mravel\u001b[39m(a, order\u001b[39m=\u001b[39m\u001b[39m'\u001b[39m\u001b[39mC\u001b[39m\u001b[39m'\u001b[39m):\n\u001b[0;32m   1757\u001b[0m     \u001b[39m\"\"\"Return a contiguous flattened array.\u001b[39;00m\n\u001b[0;32m   1758\u001b[0m \n\u001b[0;32m   1759\u001b[0m \u001b[39m    A 1-D array, containing the elements of the input, is returned.  A copy is\u001b[39;00m\n\u001b[1;32m   (...)\u001b[0m\n\u001b[0;32m   1854\u001b[0m \n\u001b[0;32m   1855\u001b[0m \u001b[39m    \"\"\"\u001b[39;00m\n\u001b[1;32m-> 1856\u001b[0m     \u001b[39mif\u001b[39;00m \u001b[39misinstance\u001b[39m(a, np\u001b[39m.\u001b[39;49mmatrix):\n\u001b[0;32m   1857\u001b[0m         \u001b[39mreturn\u001b[39;00m asarray(a)\u001b[39m.\u001b[39mravel(order\u001b[39m=\u001b[39morder)\n\u001b[0;32m   1858\u001b[0m     \u001b[39melse\u001b[39;00m:\n",
      "\u001b[1;31mAttributeError\u001b[0m: module 'numpy' has no attribute 'matrix'"
     ]
    },
    {
     "data": {
      "image/png": "[encoded data removed]",
      "text/plain": [
       "<Figure size 640x480 with 1 Axes>"
      ]
     },
     "metadata": {},
     "output_type": "display_data"
    }
   ],
   "source": [
    "fig, ax = plt.subplots()\n",
    "ax.plot(distances_M, color='orange', label='Min Ditsance')\n",
    "ax.tick_params(axis='y', labelcolor='orange')\n",
    "ax.set_xlabel('#Iterations')\n",
    "ax.set_ylabel('Min ditsance')\n",
    "\n",
    "ax2 = ax.twinx()\n",
    "ax2.plot(nb_clusters_M, color='purple', label='#Clusters')\n",
    "ax2.set_yscale('log')\n",
    "ax2.tick_params(axis='y', labelcolor='purple')\n",
    "ax2.set_ylabel('#Clusters')\n",
    "\n",
    "ax.set_title('Evolution')\n",
    "plt.show()"
   ]
  },
  {
   "cell_type": "code",
   "execution_count": null,
   "metadata": {},
   "outputs": [
    {
     "data": {
      "image/png": "[encoded data removed]",
      "text/plain": [
       "<Figure size 640x480 with 2 Axes>"
      ]
     },
     "metadata": {},
     "output_type": "display_data"
    }
   ],
   "source": [
    "fig, ax = plt.subplots()\n",
    "ax.plot(distances_N, color='orange', label='Min Ditsance')\n",
    "ax.tick_params(axis='y', labelcolor='orange')\n",
    "ax.set_xlabel('#Iterations')\n",
    "ax.set_ylabel('Min ditsance')\n",
    "\n",
    "ax2 = ax.twinx()\n",
    "ax2.plot(nb_clusters_N, color='purple', label='#Clusters')\n",
    "ax2.set_yscale('log')\n",
    "ax2.tick_params(axis='y', labelcolor='purple')\n",
    "ax2.set_ylabel('#Clusters')\n",
    "\n",
    "ax.set_title('Evolution')\n",
    "plt.show()"
   ]
  },
  {
   "cell_type": "code",
   "execution_count": null,
   "metadata": {},
   "outputs": [
    {
     "data": {
      "image/png": "[encoded data removed]",
      "text/plain": [
       "<Figure size 640x480 with 2 Axes>"
      ]
     },
     "metadata": {},
     "output_type": "display_data"
    }
   ],
   "source": [
    "fig, ax = plt.subplots()\n",
    "ax.plot(distances_S, color='orange', label='Min Ditsance')\n",
    "ax.tick_params(axis='y', labelcolor='orange')\n",
    "ax.set_xlabel('#Iterations')\n",
    "ax.set_ylabel('Min ditsance')\n",
    "\n",
    "ax2 = ax.twinx()\n",
    "ax2.plot(nb_clusters_S, color='purple', label='#Clusters')\n",
    "ax2.set_yscale('log')\n",
    "ax2.tick_params(axis='y', labelcolor='purple')\n",
    "ax2.set_ylabel('#Clusters')\n",
    "\n",
    "ax.set_title('Evolution')\n",
    "plt.show()"
   ]
  },
  {
   "cell_type": "code",
   "execution_count": null,
   "metadata": {},
   "outputs": [
    {
     "data": {
      "text/plain": [
       "(dict_keys([0, 28]),\n",
       " dict_keys([0, 18]),\n",
       " dict_keys([0, 171]),\n",
       " dict_keys([0, 171]))"
      ]
     },
     "execution_count": 211,
     "metadata": {},
     "output_type": "execute_result"
    }
   ],
   "source": [
    "clusters_H.keys(), clusters_M.keys(), clusters_N.keys(), clusters_S.keys()"
   ]
  },
  {
   "cell_type": "code",
   "execution_count": null,
   "metadata": {},
   "outputs": [],
   "source": [
    "yes_H, no_H = clusters_H.values[1], clusters_H.values[0]\n",
    "yes_M, no_M = clusters_M.values[1], clusters_M.values[0]\n",
    "yes_N, no_N = clusters_N.values[1], clusters_N.values[0]\n",
    "yes_S, no_S = clusters_S.values[1], clusters_S.values[0]\n",
    "\n",
    "predicted_H = [1 if i in yes_H else 0 for i in range(len(X))] \n",
    "predicted_M = [1 if i in yes_M else 0 for i in range(len(X))] \n",
    "predicted_N = [1 if i in yes_N else 0 for i in range(len(X))] \n",
    "predicted_S = [1 if i in yes_S else 0 for i in range(len(X))] "
   ]
  },
  {
   "cell_type": "code",
   "execution_count": null,
   "metadata": {},
   "outputs": [
    {
     "name": "stdout",
     "output_type": "stream",
     "text": [
      "Classification Report\n",
      "Class 0\n",
      "Precision: 0.849\n",
      "Recall: 0.640\n",
      "F1-Score: 0.730\n",
      "\n",
      "Class 1\n",
      "Precision: 0.179\n",
      "Recall: 0.409\n",
      "F1-Score: 0.249\n",
      "\n",
      "Accuracy: 0.431\n"
     ]
    }
   ],
   "source": [
    "report(y, predicted_H)"
   ]
  },
  {
   "cell_type": "code",
   "execution_count": null,
   "metadata": {},
   "outputs": [
    {
     "name": "stdout",
     "output_type": "stream",
     "text": [
      "Classification Report\n",
      "Class 0\n",
      "Precision: 0.825\n",
      "Recall: 0.879\n",
      "F1-Score: 0.851\n",
      "\n",
      "Class 1\n",
      "Precision: 0.045\n",
      "Recall: 0.030\n",
      "F1-Score: 0.036\n",
      "\n",
      "Accuracy: 0.590\n"
     ]
    }
   ],
   "source": [
    "report(y, predicted_M)"
   ]
  },
  {
   "cell_type": "code",
   "execution_count": null,
   "metadata": {},
   "outputs": [
    {
     "name": "stdout",
     "output_type": "stream",
     "text": [
      "Classification Report\n",
      "Class 0\n",
      "Precision: 0.839\n",
      "Recall: 1.000\n",
      "F1-Score: 0.913\n",
      "\n",
      "Class 1\n",
      "Precision: 1.000\n",
      "Recall: 0.004\n",
      "F1-Score: 0.008\n",
      "\n",
      "Accuracy: 0.723\n"
     ]
    }
   ],
   "source": [
    "report(y, predicted_N)"
   ]
  },
  {
   "cell_type": "code",
   "execution_count": null,
   "metadata": {},
   "outputs": [
    {
     "name": "stdout",
     "output_type": "stream",
     "text": [
      "Classification Report\n",
      "Class 0\n",
      "Precision: 0.839\n",
      "Recall: 1.000\n",
      "F1-Score: 0.913\n",
      "\n",
      "Class 1\n",
      "Precision: 1.000\n",
      "Recall: 0.004\n",
      "F1-Score: 0.008\n",
      "\n",
      "Accuracy: 0.723\n"
     ]
    }
   ],
   "source": [
    "report(y, predicted_S)"
   ]
  },
  {
   "attachments": {},
   "cell_type": "markdown",
   "metadata": {},
   "source": [
    "# Single"
   ]
  },
  {
   "cell_type": "code",
   "execution_count": null,
   "metadata": {},
   "outputs": [],
   "source": [
    "agnes = Agnes('hamming', 'single') \n",
    "with open('Agnes//Distances_Hamming.pkl', 'rb') as f:\n",
    "    dist_matrix = pickle.load(f) \n",
    "start = time.time()\n",
    "clusters_H, distances_H, nb_clusters_H = agnes.cluster(X, dist_matrix=dist_matrix) \n",
    "end = time.time() - start\n",
    "print('Hamming done', end)\n",
    "\n",
    "agnes = Agnes('manhattan', 'single') \n",
    "with open('Agnes//Distances_Manhattan.pkl', 'rb') as f:\n",
    "    dist_matrix = pickle.load(f) \n",
    "start = time.time()\n",
    "clusters_M, distances_M, nb_clusters_M = agnes.cluster(X, dist_matrix=dist_matrix) \n",
    "end = time.time() - start\n",
    "print('Manhattan done', end)\n",
    "\n",
    "agnes = Agnes('manhattan', 'single') \n",
    "with open('Agnes//Distances_Manhattan_Norm.pkl', 'rb') as f:\n",
    "    dist_matrix = pickle.load(f) \n",
    "start = time.time()\n",
    "clusters_N, distances_N, nb_clusters_N = agnes.cluster(X_normalized, dist_matrix=dist_matrix) \n",
    "end = time.time() - start\n",
    "print('Manhattan Norm done', end)\n",
    "\n",
    "agnes = Agnes('manhattan', 'single') \n",
    "with open('Agnes//Distances_Manhattan_Std.pkl', 'rb') as f:\n",
    "    dist_matrix = pickle.load(f) \n",
    "start = time.time()\n",
    "clusters_S, distances_S, nb_clusters_S = agnes.cluster(X_standardized, dist_matrix=dist_matrix) \n",
    "end = time.time() - start\n",
    "print('Manhattan Std done', end)"
   ]
  },
  {
   "cell_type": "code",
   "execution_count": null,
   "metadata": {},
   "outputs": [],
   "source": [
    "fig, ax = plt.subplots()\n",
    "ax.plot(distances_H, color='orange', label='Min Ditsance')\n",
    "ax.tick_params(axis='y', labelcolor='orange')\n",
    "ax.set_xlabel('#Iterations')\n",
    "ax.set_ylabel('Min ditsance')\n",
    "\n",
    "ax2 = ax.twinx()\n",
    "ax2.plot(nb_clusters_H, color='purple', label='#Clusters')\n",
    "ax2.set_yscale('log') \n",
    "ax2.tick_params(axis='y', labelcolor='purple')\n",
    "ax2.set_ylabel('#Clusters')\n",
    "\n",
    "ax.set_title('Evolution')\n",
    "plt.show()"
   ]
  },
  {
   "cell_type": "code",
   "execution_count": null,
   "metadata": {},
   "outputs": [],
   "source": [
    "fig, ax = plt.subplots()\n",
    "ax.plot(distances_M, color='orange', label='Min Ditsance')\n",
    "ax.tick_params(axis='y', labelcolor='orange')\n",
    "ax.set_xlabel('#Iterations')\n",
    "ax.set_ylabel('Min ditsance')\n",
    "\n",
    "ax2 = ax.twinx()\n",
    "ax2.plot(nb_clusters_M, color='purple', label='#Clusters')\n",
    "ax2.set_yscale('log')\n",
    "ax2.tick_params(axis='y', labelcolor='purple')\n",
    "ax2.set_ylabel('#Clusters')\n",
    "\n",
    "ax.set_title('Evolution')\n",
    "plt.show()"
   ]
  },
  {
   "cell_type": "code",
   "execution_count": null,
   "metadata": {},
   "outputs": [],
   "source": [
    "fig, ax = plt.subplots()\n",
    "ax.plot(distances_N, color='orange', label='Min Ditsance')\n",
    "ax.tick_params(axis='y', labelcolor='orange')\n",
    "ax.set_xlabel('#Iterations')\n",
    "ax.set_ylabel('Min ditsance')\n",
    "\n",
    "ax2 = ax.twinx()\n",
    "ax2.plot(nb_clusters_N, color='purple', label='#Clusters')\n",
    "ax2.set_yscale('log')\n",
    "ax2.tick_params(axis='y', labelcolor='purple')\n",
    "ax2.set_ylabel('#Clusters')\n",
    "\n",
    "ax.set_title('Evolution')\n",
    "plt.show()"
   ]
  },
  {
   "cell_type": "code",
   "execution_count": null,
   "metadata": {},
   "outputs": [],
   "source": [
    "fig, ax = plt.subplots()\n",
    "ax.plot(distances_S, color='orange', label='Min Ditsance')\n",
    "ax.tick_params(axis='y', labelcolor='orange')\n",
    "ax.set_xlabel('#Iterations')\n",
    "ax.set_ylabel('Min ditsance')\n",
    "\n",
    "ax2 = ax.twinx()\n",
    "ax2.plot(nb_clusters_S, color='purple', label='#Clusters')\n",
    "ax2.set_yscale('log')\n",
    "ax2.tick_params(axis='y', labelcolor='purple')\n",
    "ax2.set_ylabel('#Clusters')\n",
    "\n",
    "ax.set_title('Evolution')\n",
    "plt.show()"
   ]
  },
  {
   "cell_type": "code",
   "execution_count": null,
   "metadata": {},
   "outputs": [],
   "source": [
    "clusters_H.keys(), clusters_M.keys(), clusters_N.keys(), clusters_S.keys()"
   ]
  },
  {
   "cell_type": "code",
   "execution_count": null,
   "metadata": {},
   "outputs": [],
   "source": [
    "yes_H, no_H = clusters_H.values[1], clusters_H.values[0]\n",
    "yes_M, no_M = clusters_M.values[1], clusters_M.values[0]\n",
    "yes_N, no_N = clusters_N.values[1], clusters_N.values[0]\n",
    "yes_S, no_S = clusters_S.values[1], clusters_S.values[0]\n",
    "\n",
    "predicted_H = [1 if i in yes_H else 0 for i in range(len(X))] \n",
    "predicted_M = [1 if i in yes_M else 0 for i in range(len(X))] \n",
    "predicted_N = [1 if i in yes_N else 0 for i in range(len(X))] \n",
    "predicted_S = [1 if i in yes_S else 0 for i in range(len(X))] "
   ]
  },
  {
   "cell_type": "code",
   "execution_count": null,
   "metadata": {},
   "outputs": [],
   "source": [
    "report(y, predicted_H)"
   ]
  },
  {
   "cell_type": "code",
   "execution_count": null,
   "metadata": {},
   "outputs": [],
   "source": [
    "report(y, predicted_M)"
   ]
  },
  {
   "cell_type": "code",
   "execution_count": null,
   "metadata": {},
   "outputs": [],
   "source": [
    "report(y, predicted_N)"
   ]
  },
  {
   "cell_type": "code",
   "execution_count": null,
   "metadata": {},
   "outputs": [],
   "source": [
    "report(y, predicted_S)"
   ]
  },
  {
   "attachments": {},
   "cell_type": "markdown",
   "metadata": {},
   "source": [
    "# Complete"
   ]
  },
  {
   "cell_type": "code",
   "execution_count": null,
   "metadata": {},
   "outputs": [],
   "source": [
    "agnes = Agnes('hamming', 'complete') \n",
    "with open('Agnes//Distances_Hamming.pkl', 'rb') as f:\n",
    "    dist_matrix = pickle.load(f) \n",
    "start = time.time()\n",
    "clusters_H, distances_H, nb_clusters_H = agnes.cluster(X, dist_matrix=dist_matrix) \n",
    "end = time.time() - start\n",
    "print('Hamming done', end)\n",
    "\n",
    "agnes = Agnes('manhattan', 'complete') \n",
    "with open('Agnes//Distances_Manhattan.pkl', 'rb') as f:\n",
    "    dist_matrix = pickle.load(f) \n",
    "start = time.time()\n",
    "clusters_M, distances_M, nb_clusters_M = agnes.cluster(X, dist_matrix=dist_matrix) \n",
    "end = time.time() - start\n",
    "print('Manhattan done', end)\n",
    "\n",
    "agnes = Agnes('manhattan',  'complete') \n",
    "with open('Agnes//Distances_Manhattan_Norm.pkl', 'rb') as f:\n",
    "    dist_matrix = pickle.load(f) \n",
    "start = time.time()\n",
    "clusters_N, distances_N, nb_clusters_N = agnes.cluster(X_normalized, dist_matrix=dist_matrix) \n",
    "end = time.time() - start\n",
    "print('Manhattan Norm done', end)\n",
    "\n",
    "agnes = Agnes('manhattan', 'complete') \n",
    "with open('Agnes//Distances_Manhattan_Std.pkl', 'rb') as f:\n",
    "    dist_matrix = pickle.load(f) \n",
    "start = time.time()\n",
    "clusters_S, distances_S, nb_clusters_S = agnes.cluster(X_standardized, dist_matrix=dist_matrix) \n",
    "end = time.time() - start\n",
    "print('Manhattan Std done', end)"
   ]
  },
  {
   "cell_type": "code",
   "execution_count": null,
   "metadata": {},
   "outputs": [],
   "source": [
    "fig, ax = plt.subplots()\n",
    "ax.plot(distances_H, color='orange', label='Min Ditsance')\n",
    "ax.tick_params(axis='y', labelcolor='orange')\n",
    "ax.set_xlabel('#Iterations')\n",
    "ax.set_ylabel('Min ditsance')\n",
    "\n",
    "ax2 = ax.twinx()\n",
    "ax2.plot(nb_clusters_H, color='purple', label='#Clusters')\n",
    "ax2.set_yscale('log')\n",
    "ax2.tick_params(axis='y', labelcolor='purple')\n",
    "ax2.set_ylabel('#Clusters')\n",
    "\n",
    "ax.set_title('Evolution')\n",
    "plt.show()"
   ]
  },
  {
   "cell_type": "code",
   "execution_count": null,
   "metadata": {},
   "outputs": [],
   "source": [
    "fig, ax = plt.subplots()\n",
    "ax.plot(distances_M, color='orange', label='Min Ditsance')\n",
    "ax.tick_params(axis='y', labelcolor='orange')\n",
    "ax.set_xlabel('#Iterations')\n",
    "ax.set_ylabel('Min ditsance')\n",
    "\n",
    "ax2 = ax.twinx()\n",
    "ax2.plot(nb_clusters_M, color='purple', label='#Clusters')\n",
    "ax2.set_yscale('log')\n",
    "ax2.tick_params(axis='y', labelcolor='purple')\n",
    "ax2.set_ylabel('#Clusters')\n",
    "\n",
    "ax.set_title('Evolution')\n",
    "plt.show()"
   ]
  },
  {
   "cell_type": "code",
   "execution_count": null,
   "metadata": {},
   "outputs": [],
   "source": [
    "fig, ax = plt.subplots()\n",
    "ax.plot(distances_N, color='orange', label='Min Ditsance')\n",
    "ax.tick_params(axis='y', labelcolor='orange')\n",
    "ax.set_xlabel('#Iterations')\n",
    "ax.set_ylabel('Min ditsance')\n",
    "\n",
    "ax2 = ax.twinx()\n",
    "ax2.plot(nb_clusters_N, color='purple', label='#Clusters')\n",
    "ax2.set_yscale('log')\n",
    "ax2.tick_params(axis='y', labelcolor='purple')\n",
    "ax2.set_ylabel('#Clusters')\n",
    "\n",
    "ax.set_title('Evolution')\n",
    "plt.show()"
   ]
  },
  {
   "cell_type": "code",
   "execution_count": null,
   "metadata": {},
   "outputs": [],
   "source": [
    "fig, ax = plt.subplots()\n",
    "ax.plot(distances_S, color='orange', label='Min Ditsance')\n",
    "ax.tick_params(axis='y', labelcolor='orange')\n",
    "ax.set_xlabel('#Iterations')\n",
    "ax.set_ylabel('Min ditsance')\n",
    "\n",
    "ax2 = ax.twinx()\n",
    "ax2.plot(nb_clusters_S, color='purple', label='#Clusters')\n",
    "ax2.set_yscale('log')\n",
    "ax2.tick_params(axis='y', labelcolor='purple')\n",
    "ax2.set_ylabel('#Clusters')\n",
    "\n",
    "ax.set_title('Evolution')\n",
    "plt.show()"
   ]
  },
  {
   "cell_type": "code",
   "execution_count": null,
   "metadata": {},
   "outputs": [],
   "source": [
    "clusters_H.keys(), clusters_M.keys(), clusters_N.keys(), clusters_S.keys()"
   ]
  },
  {
   "cell_type": "code",
   "execution_count": null,
   "metadata": {},
   "outputs": [],
   "source": [
    "yes_H, no_H = clusters_H.values[1], clusters_H.values[0]\n",
    "yes_M, no_M = clusters_M.values[1], clusters_M.values[0]\n",
    "yes_N, no_N = clusters_N.values[1], clusters_N.values[0]\n",
    "yes_S, no_S = clusters_S.values[1], clusters_S.values[0]\n",
    "\n",
    "predicted_H = [1 if i in yes_H else 0 for i in range(len(X))] \n",
    "predicted_M = [1 if i in yes_M else 0 for i in range(len(X))] \n",
    "predicted_N = [1 if i in yes_N else 0 for i in range(len(X))] \n",
    "predicted_S = [1 if i in yes_S else 0 for i in range(len(X))] "
   ]
  },
  {
   "cell_type": "code",
   "execution_count": null,
   "metadata": {},
   "outputs": [],
   "source": [
    "report(y, predicted_H)"
   ]
  },
  {
   "cell_type": "code",
   "execution_count": null,
   "metadata": {},
   "outputs": [],
   "source": [
    "report(y, predicted_M)"
   ]
  },
  {
   "cell_type": "code",
   "execution_count": null,
   "metadata": {},
   "outputs": [],
   "source": [
    "report(y, predicted_N)"
   ]
  },
  {
   "cell_type": "code",
   "execution_count": null,
   "metadata": {},
   "outputs": [],
   "source": [
    "report(y, predicted_S)"
   ]
  },
  {
   "attachments": {},
   "cell_type": "markdown",
   "metadata": {},
   "source": [
    "# Average"
   ]
  },
  {
   "cell_type": "code",
   "execution_count": null,
   "metadata": {},
   "outputs": [],
   "source": [
    "agnes = Agnes('hamming', 'average') \n",
    "with open('Agnes//Distances_Hamming.pkl', 'rb') as f:\n",
    "    dist_matrix = pickle.load(f) \n",
    "start = time.time()\n",
    "clusters_H, distances_H, nb_clusters_H = agnes.cluster(X, dist_matrix=dist_matrix) \n",
    "end = time.time() - start\n",
    "print('Hamming done', end)\n",
    "\n",
    "agnes = Agnes('manhattan', 'average') \n",
    "with open('Agnes//Distances_Manhattan.pkl', 'rb') as f:\n",
    "    dist_matrix = pickle.load(f) \n",
    "start = time.time()\n",
    "clusters_M, distances_M, nb_clusters_M = agnes.cluster(X, dist_matrix=dist_matrix) \n",
    "end = time.time() - start\n",
    "print('Manhattan done', end)\n",
    "\n",
    "agnes = Agnes('manhattan',  'average') \n",
    "with open('Agnes//Distances_Manhattan_Norm.pkl', 'rb') as f:\n",
    "    dist_matrix = pickle.load(f) \n",
    "start = time.time()\n",
    "clusters_N, distances_N, nb_clusters_N = agnes.cluster(X_normalized, dist_matrix=dist_matrix) \n",
    "end = time.time() - start\n",
    "print('Manhattan Norm done', end)\n",
    "\n",
    "agnes = Agnes('manhattan', 'average') \n",
    "with open('Agnes//Distances_Manhattan_Std.pkl', 'rb') as f:\n",
    "    dist_matrix = pickle.load(f) \n",
    "start = time.time()\n",
    "clusters_S, distances_S, nb_clusters_S = agnes.cluster(X_standardized, dist_matrix=dist_matrix) \n",
    "end = time.time() - start\n",
    "print('Manhattan Std done', end)"
   ]
  },
  {
   "cell_type": "code",
   "execution_count": null,
   "metadata": {},
   "outputs": [],
   "source": [
    "fig, ax = plt.subplots()\n",
    "ax.plot(distances_H, color='orange', label='Min Ditsance')\n",
    "ax.tick_params(axis='y', labelcolor='orange')\n",
    "ax.set_xlabel('#Iterations')\n",
    "ax.set_ylabel('Min ditsance')\n",
    "\n",
    "ax2 = ax.twinx()\n",
    "ax2.plot(nb_clusters_H, color='purple', label='#Clusters')\n",
    "ax2.set_yscale('log')\n",
    "ax2.tick_params(axis='y', labelcolor='purple')\n",
    "ax2.set_ylabel('#Clusters')\n",
    "\n",
    "ax.set_title('Evolution')\n",
    "plt.show()"
   ]
  },
  {
   "cell_type": "code",
   "execution_count": null,
   "metadata": {},
   "outputs": [],
   "source": [
    "fig, ax = plt.subplots()\n",
    "ax.plot(distances_M, color='orange', label='Min Ditsance')\n",
    "ax.tick_params(axis='y', labelcolor='orange')\n",
    "ax.set_xlabel('#Iterations')\n",
    "ax.set_ylabel('Min ditsance')\n",
    "\n",
    "ax2 = ax.twinx()\n",
    "ax2.plot(nb_clusters_M, color='purple', label='#Clusters')\n",
    "ax2.set_yscale('log')\n",
    "ax2.tick_params(axis='y', labelcolor='purple')\n",
    "ax2.set_ylabel('#Clusters')\n",
    "\n",
    "ax.set_title('Evolution')\n",
    "plt.show()"
   ]
  },
  {
   "cell_type": "code",
   "execution_count": null,
   "metadata": {},
   "outputs": [],
   "source": [
    "fig, ax = plt.subplots()\n",
    "ax.plot(distances_N, color='orange', label='Min Ditsance')\n",
    "ax.tick_params(axis='y', labelcolor='orange')\n",
    "ax.set_xlabel('#Iterations')\n",
    "ax.set_ylabel('Min ditsance')\n",
    "\n",
    "ax2 = ax.twinx()\n",
    "ax2.plot(nb_clusters_N, color='purple', label='#Clusters')\n",
    "ax2.set_yscale('log')\n",
    "ax2.tick_params(axis='y', labelcolor='purple')\n",
    "ax2.set_ylabel('#Clusters')\n",
    "\n",
    "ax.set_title('Evolution')\n",
    "plt.show()"
   ]
  },
  {
   "cell_type": "code",
   "execution_count": null,
   "metadata": {},
   "outputs": [],
   "source": [
    "fig, ax = plt.subplots()\n",
    "ax.plot(distances_S, color='orange', label='Min Ditsance')\n",
    "ax.tick_params(axis='y', labelcolor='orange')\n",
    "ax.set_xlabel('#Iterations')\n",
    "ax.set_ylabel('Min ditsance')\n",
    "\n",
    "ax2 = ax.twinx()\n",
    "ax2.plot(nb_clusters_S, color='purple', label='#Clusters')\n",
    "ax2.set_yscale('log')\n",
    "ax2.tick_params(axis='y', labelcolor='purple')\n",
    "ax2.set_ylabel('#Clusters')\n",
    "\n",
    "ax.set_title('Evolution')\n",
    "plt.show()"
   ]
  },
  {
   "cell_type": "code",
   "execution_count": null,
   "metadata": {},
   "outputs": [],
   "source": [
    "clusters_H.keys(), clusters_M.keys(), clusters_N.keys(), clusters_S.keys()"
   ]
  },
  {
   "cell_type": "code",
   "execution_count": null,
   "metadata": {},
   "outputs": [],
   "source": [
    "yes_H, no_H = clusters_H.values[1], clusters_H.values[0]\n",
    "yes_M, no_M = clusters_M.values[1], clusters_M.values[0]\n",
    "yes_N, no_N = clusters_N.values[1], clusters_N.values[0]\n",
    "yes_S, no_S = clusters_S.values[1], clusters_S.values[0]\n",
    "\n",
    "predicted_H = [1 if i in yes_H else 0 for i in range(len(X))] \n",
    "predicted_M = [1 if i in yes_M else 0 for i in range(len(X))] \n",
    "predicted_N = [1 if i in yes_N else 0 for i in range(len(X))] \n",
    "predicted_S = [1 if i in yes_S else 0 for i in range(len(X))] "
   ]
  },
  {
   "cell_type": "code",
   "execution_count": null,
   "metadata": {},
   "outputs": [],
   "source": [
    "report(y, predicted_H)"
   ]
  },
  {
   "cell_type": "code",
   "execution_count": null,
   "metadata": {},
   "outputs": [],
   "source": [
    "report(y, predicted_M)"
   ]
  },
  {
   "cell_type": "code",
   "execution_count": null,
   "metadata": {},
   "outputs": [],
   "source": [
    "report(y, predicted_N)"
   ]
  },
  {
   "cell_type": "code",
   "execution_count": null,
   "metadata": {},
   "outputs": [],
   "source": [
    "report(y, predicted_S)"
   ]
  },
  {
   "attachments": {},
   "cell_type": "markdown",
   "metadata": {},
   "source": [
    "# Ward"
   ]
  },
  {
   "cell_type": "code",
   "execution_count": null,
   "metadata": {},
   "outputs": [],
   "source": [
    "agnes = Agnes('hamming', 'ward') \n",
    "with open('Agnes//Distances_Hamming.pkl', 'rb') as f:\n",
    "    dist_matrix = pickle.load(f) \n",
    "start = time.time()\n",
    "clusters_H, distances_H, nb_clusters_H = agnes.cluster(X, dist_matrix=dist_matrix) \n",
    "end = time.time() - start\n",
    "print('Hamming done', end)\n",
    "\n",
    "agnes = Agnes('manhattan', 'ward') \n",
    "with open('Agnes//Distances_Manhattan.pkl', 'rb') as f:\n",
    "    dist_matrix = pickle.load(f) \n",
    "start = time.time()\n",
    "clusters_M, distances_M, nb_clusters_M = agnes.cluster(X, dist_matrix=dist_matrix) \n",
    "end = time.time() - start\n",
    "print('Manhattan done', end)\n",
    "\n",
    "agnes = Agnes('manhattan',  'ward') \n",
    "with open('Agnes//Distances_Manhattan_Norm.pkl', 'rb') as f:\n",
    "    dist_matrix = pickle.load(f) \n",
    "start = time.time()\n",
    "clusters_N, distances_N, nb_clusters_N = agnes.cluster(X_normalized, dist_matrix=dist_matrix) \n",
    "end = time.time() - start\n",
    "print('Manhattan Norm done', end)\n",
    "\n",
    "agnes = Agnes('manhattan', 'ward') \n",
    "with open('Agnes//Distances_Manhattan_Std.pkl', 'rb') as f:\n",
    "    dist_matrix = pickle.load(f) \n",
    "start = time.time()\n",
    "clusters_S, distances_S, nb_clusters_S = agnes.cluster(X_standardized, dist_matrix=dist_matrix) \n",
    "end = time.time() - start\n",
    "print('Manhattan Std done', end)"
   ]
  },
  {
   "cell_type": "code",
   "execution_count": null,
   "metadata": {},
   "outputs": [],
   "source": [
    "fig, ax = plt.subplots()\n",
    "ax.plot(distances_H, color='orange', label='Min Ditsance')\n",
    "ax.tick_params(axis='y', labelcolor='orange')\n",
    "ax.set_xlabel('#Iterations')\n",
    "ax.set_ylabel('Min ditsance')\n",
    "\n",
    "ax2 = ax.twinx()\n",
    "ax2.plot(nb_clusters_H, color='purple', label='#Clusters')\n",
    "ax2.set_yscale('log')\n",
    "ax2.tick_params(axis='y', labelcolor='purple')\n",
    "ax2.set_ylabel('#Clusters')\n",
    "\n",
    "ax.set_title('Evolution')\n",
    "plt.show()"
   ]
  },
  {
   "cell_type": "code",
   "execution_count": null,
   "metadata": {},
   "outputs": [],
   "source": [
    "fig, ax = plt.subplots()\n",
    "ax.plot(distances_M, color='orange', label='Min Ditsance')\n",
    "ax.tick_params(axis='y', labelcolor='orange')\n",
    "ax.set_xlabel('#Iterations')\n",
    "ax.set_ylabel('Min ditsance')\n",
    "\n",
    "ax2 = ax.twinx()\n",
    "ax2.plot(nb_clusters_M, color='purple', label='#Clusters')\n",
    "ax2.set_yscale('log')\n",
    "ax2.tick_params(axis='y', labelcolor='purple')\n",
    "ax2.set_ylabel('#Clusters')\n",
    "\n",
    "ax.set_title('Evolution')\n",
    "plt.show()"
   ]
  },
  {
   "cell_type": "code",
   "execution_count": null,
   "metadata": {},
   "outputs": [],
   "source": [
    "fig, ax = plt.subplots()\n",
    "ax.plot(distances_N, color='orange', label='Min Ditsance')\n",
    "ax.tick_params(axis='y', labelcolor='orange')\n",
    "ax.set_xlabel('#Iterations')\n",
    "ax.set_ylabel('Min ditsance')\n",
    "\n",
    "ax2 = ax.twinx()\n",
    "ax2.plot(nb_clusters_N, color='purple', label='#Clusters')\n",
    "ax2.set_yscale('log')\n",
    "ax2.tick_params(axis='y', labelcolor='purple')\n",
    "ax2.set_ylabel('#Clusters')\n",
    "\n",
    "ax.set_title('Evolution')\n",
    "plt.show()"
   ]
  },
  {
   "cell_type": "code",
   "execution_count": null,
   "metadata": {},
   "outputs": [],
   "source": [
    "fig, ax = plt.subplots()\n",
    "ax.plot(distances_S, color='orange', label='Min Ditsance')\n",
    "ax.tick_params(axis='y', labelcolor='orange')\n",
    "ax.set_xlabel('#Iterations')\n",
    "ax.set_ylabel('Min ditsance')\n",
    "\n",
    "ax2 = ax.twinx()\n",
    "ax2.plot(nb_clusters_S, color='purple', label='#Clusters')\n",
    "ax2.set_yscale('log')\n",
    "ax2.tick_params(axis='y', labelcolor='purple')\n",
    "ax2.set_ylabel('#Clusters')\n",
    "\n",
    "ax.set_title('Evolution')\n",
    "plt.show()"
   ]
  },
  {
   "cell_type": "code",
   "execution_count": null,
   "metadata": {},
   "outputs": [],
   "source": [
    "clusters_H.keys(), clusters_M.keys(), clusters_N.keys(), clusters_S.keys()"
   ]
  },
  {
   "cell_type": "code",
   "execution_count": null,
   "metadata": {},
   "outputs": [],
   "source": [
    "yes_H, no_H = clusters_H.values[1], clusters_H.values[0]\n",
    "yes_M, no_M = clusters_M.values[1], clusters_M.values[0]\n",
    "yes_N, no_N = clusters_N.values[1], clusters_N.values[0]\n",
    "yes_S, no_S = clusters_S.values[1], clusters_S.values[0]\n",
    "\n",
    "predicted_H = [1 if i in yes_H else 0 for i in range(len(X))] \n",
    "predicted_M = [1 if i in yes_M else 0 for i in range(len(X))] \n",
    "predicted_N = [1 if i in yes_N else 0 for i in range(len(X))] \n",
    "predicted_S = [1 if i in yes_S else 0 for i in range(len(X))] "
   ]
  },
  {
   "cell_type": "code",
   "execution_count": null,
   "metadata": {},
   "outputs": [],
   "source": [
    "report(y, predicted_H)"
   ]
  },
  {
   "cell_type": "code",
   "execution_count": null,
   "metadata": {},
   "outputs": [],
   "source": [
    "report(y, predicted_M)"
   ]
  },
  {
   "cell_type": "code",
   "execution_count": null,
   "metadata": {},
   "outputs": [],
   "source": [
    "report(y, predicted_N)"
   ]
  },
  {
   "cell_type": "code",
   "execution_count": null,
   "metadata": {},
   "outputs": [],
   "source": [
    "report(y, predicted_S)"
   ]
  }
 ],
 "metadata": {
  "kernelspec": {
   "display_name": "Python 3",
   "language": "python",
   "name": "python3"
  },
  "language_info": {
   "codemirror_mode": {
    "name": "ipython",
    "version": 3
   },
   "file_extension": ".py",
   "mimetype": "text/x-python",
   "name": "python",
   "nbconvert_exporter": "python",
   "pygments_lexer": "ipython3",
   "version": "3.9.4"
  },
  "orig_nbformat": 4,
  "vscode": {
   "interpreter": {
    "hash": "5addf786bcd861d1ce5006f23111f8cbb206731e5b61b0a5632ba9e0252558a8"
   }
  }
 },
 "nbformat": 4,
 "nbformat_minor": 2
}
